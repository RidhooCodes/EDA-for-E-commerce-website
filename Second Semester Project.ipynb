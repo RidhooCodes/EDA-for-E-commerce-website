{
 "cells": [
  {
   "cell_type": "code",
   "execution_count": 1,
   "id": "d69f9b0f",
   "metadata": {},
   "outputs": [],
   "source": [
    "# Importing our libraries\n",
    "import pandas as pd\n",
    "import matplotlib.pyplot as plt\n",
    "import json\n",
    "import seaborn as sns"
   ]
  },
  {
   "cell_type": "markdown",
   "id": "d1dbca64",
   "metadata": {},
   "source": [
    "## Importing our dataset"
   ]
  },
  {
   "cell_type": "code",
   "execution_count": 2,
   "id": "59d55c82",
   "metadata": {},
   "outputs": [],
   "source": [
    "# Import customer's table\n",
    "customer_df = pd.read_csv(r\"C:\\Users\\USER\\Desktop\\AltSchool Africa\\Datasets\\website optimization\\customers.csv\")"
   ]
  },
  {
   "cell_type": "code",
   "execution_count": 3,
   "id": "20e483c5",
   "metadata": {
    "scrolled": true
   },
   "outputs": [
    {
     "data": {
      "text/html": [
       "<div>\n",
       "<style scoped>\n",
       "    .dataframe tbody tr th:only-of-type {\n",
       "        vertical-align: middle;\n",
       "    }\n",
       "\n",
       "    .dataframe tbody tr th {\n",
       "        vertical-align: top;\n",
       "    }\n",
       "\n",
       "    .dataframe thead th {\n",
       "        text-align: right;\n",
       "    }\n",
       "</style>\n",
       "<table border=\"1\" class=\"dataframe\">\n",
       "  <thead>\n",
       "    <tr style=\"text-align: right;\">\n",
       "      <th></th>\n",
       "      <th>customer_id</th>\n",
       "      <th>device_id</th>\n",
       "      <th>location</th>\n",
       "      <th>currency</th>\n",
       "    </tr>\n",
       "  </thead>\n",
       "  <tbody>\n",
       "    <tr>\n",
       "      <th>0</th>\n",
       "      <td>4f4f5adc-1ca2-4b49-bac4-7b12d6d9d5cf</td>\n",
       "      <td>ef424b22-2393-4708-b065-c68152e8b377</td>\n",
       "      <td>Oman</td>\n",
       "      <td>USD</td>\n",
       "    </tr>\n",
       "    <tr>\n",
       "      <th>1</th>\n",
       "      <td>5cc88463-6a08-48b5-977c-9683a1c607b2</td>\n",
       "      <td>ba53d790-0cfc-4c00-9ab7-a6b104dceb65</td>\n",
       "      <td>United States of America</td>\n",
       "      <td>GBP</td>\n",
       "    </tr>\n",
       "    <tr>\n",
       "      <th>2</th>\n",
       "      <td>cda7bec0-7cbf-4145-baf9-e049bab94504</td>\n",
       "      <td>33b485de-7338-4997-b1d0-b988ba17b245</td>\n",
       "      <td>Saint Helena</td>\n",
       "      <td>NGN</td>\n",
       "    </tr>\n",
       "    <tr>\n",
       "      <th>3</th>\n",
       "      <td>e7f07fd1-05af-494a-ae5a-78c405b6f9c3</td>\n",
       "      <td>428688d6-31e6-4c73-a5d0-c8e849ccf6a3</td>\n",
       "      <td>Djibouti</td>\n",
       "      <td>NGN</td>\n",
       "    </tr>\n",
       "    <tr>\n",
       "      <th>4</th>\n",
       "      <td>873618f1-c201-4f8c-94bc-4cfc3d6d8cc8</td>\n",
       "      <td>1e939baf-c71d-444d-a832-d7dc3a6fcd0d</td>\n",
       "      <td>Guinea-Bissau</td>\n",
       "      <td>GBP</td>\n",
       "    </tr>\n",
       "  </tbody>\n",
       "</table>\n",
       "</div>"
      ],
      "text/plain": [
       "                            customer_id                             device_id  \\\n",
       "0  4f4f5adc-1ca2-4b49-bac4-7b12d6d9d5cf  ef424b22-2393-4708-b065-c68152e8b377   \n",
       "1  5cc88463-6a08-48b5-977c-9683a1c607b2  ba53d790-0cfc-4c00-9ab7-a6b104dceb65   \n",
       "2  cda7bec0-7cbf-4145-baf9-e049bab94504  33b485de-7338-4997-b1d0-b988ba17b245   \n",
       "3  e7f07fd1-05af-494a-ae5a-78c405b6f9c3  428688d6-31e6-4c73-a5d0-c8e849ccf6a3   \n",
       "4  873618f1-c201-4f8c-94bc-4cfc3d6d8cc8  1e939baf-c71d-444d-a832-d7dc3a6fcd0d   \n",
       "\n",
       "                   location currency  \n",
       "0                      Oman      USD  \n",
       "1  United States of America      GBP  \n",
       "2              Saint Helena      NGN  \n",
       "3                  Djibouti      NGN  \n",
       "4             Guinea-Bissau      GBP  "
      ]
     },
     "execution_count": 3,
     "metadata": {},
     "output_type": "execute_result"
    }
   ],
   "source": [
    "customer_df.head()"
   ]
  },
  {
   "cell_type": "code",
   "execution_count": 4,
   "id": "490429bb",
   "metadata": {},
   "outputs": [],
   "source": [
    "# Import event's table\n",
    "event_df = pd.read_csv(r\"C:\\Users\\USER\\Desktop\\AltSchool Africa\\Datasets\\website optimization\\events.csv\")"
   ]
  },
  {
   "cell_type": "code",
   "execution_count": 5,
   "id": "c0a49ef7",
   "metadata": {
    "scrolled": true
   },
   "outputs": [
    {
     "data": {
      "text/html": [
       "<div>\n",
       "<style scoped>\n",
       "    .dataframe tbody tr th:only-of-type {\n",
       "        vertical-align: middle;\n",
       "    }\n",
       "\n",
       "    .dataframe tbody tr th {\n",
       "        vertical-align: top;\n",
       "    }\n",
       "\n",
       "    .dataframe thead th {\n",
       "        text-align: right;\n",
       "    }\n",
       "</style>\n",
       "<table border=\"1\" class=\"dataframe\">\n",
       "  <thead>\n",
       "    <tr style=\"text-align: right;\">\n",
       "      <th></th>\n",
       "      <th>event_id</th>\n",
       "      <th>customer_id</th>\n",
       "      <th>event_data</th>\n",
       "      <th>event_timestamp</th>\n",
       "    </tr>\n",
       "  </thead>\n",
       "  <tbody>\n",
       "    <tr>\n",
       "      <th>0</th>\n",
       "      <td>14753</td>\n",
       "      <td>4f4f5adc-1ca2-4b49-bac4-7b12d6d9d5cf</td>\n",
       "      <td>{\"timestamp\": \"2024-03-21T12:47:11.012084\", \"e...</td>\n",
       "      <td>2024-03-21 12:47:11.012084</td>\n",
       "    </tr>\n",
       "    <tr>\n",
       "      <th>1</th>\n",
       "      <td>14754</td>\n",
       "      <td>4f4f5adc-1ca2-4b49-bac4-7b12d6d9d5cf</td>\n",
       "      <td>{\"timestamp\": \"2024-03-27T11:35:50.208930\", \"e...</td>\n",
       "      <td>2024-03-27 11:35:50.208930</td>\n",
       "    </tr>\n",
       "    <tr>\n",
       "      <th>2</th>\n",
       "      <td>14755</td>\n",
       "      <td>4f4f5adc-1ca2-4b49-bac4-7b12d6d9d5cf</td>\n",
       "      <td>{\"timestamp\": \"2024-03-30T04:03:10.392205\", \"e...</td>\n",
       "      <td>2024-03-30 04:03:10.392205</td>\n",
       "    </tr>\n",
       "    <tr>\n",
       "      <th>3</th>\n",
       "      <td>14756</td>\n",
       "      <td>4f4f5adc-1ca2-4b49-bac4-7b12d6d9d5cf</td>\n",
       "      <td>{\"item_id\": 12, \"quantity\": 5, \"timestamp\": \"2...</td>\n",
       "      <td>2024-03-30 04:03:10.394393</td>\n",
       "    </tr>\n",
       "    <tr>\n",
       "      <th>4</th>\n",
       "      <td>14757</td>\n",
       "      <td>4f4f5adc-1ca2-4b49-bac4-7b12d6d9d5cf</td>\n",
       "      <td>{\"item_id\": 11, \"quantity\": 1, \"timestamp\": \"2...</td>\n",
       "      <td>2024-03-30 04:03:10.394398</td>\n",
       "    </tr>\n",
       "  </tbody>\n",
       "</table>\n",
       "</div>"
      ],
      "text/plain": [
       "   event_id                           customer_id  \\\n",
       "0     14753  4f4f5adc-1ca2-4b49-bac4-7b12d6d9d5cf   \n",
       "1     14754  4f4f5adc-1ca2-4b49-bac4-7b12d6d9d5cf   \n",
       "2     14755  4f4f5adc-1ca2-4b49-bac4-7b12d6d9d5cf   \n",
       "3     14756  4f4f5adc-1ca2-4b49-bac4-7b12d6d9d5cf   \n",
       "4     14757  4f4f5adc-1ca2-4b49-bac4-7b12d6d9d5cf   \n",
       "\n",
       "                                          event_data  \\\n",
       "0  {\"timestamp\": \"2024-03-21T12:47:11.012084\", \"e...   \n",
       "1  {\"timestamp\": \"2024-03-27T11:35:50.208930\", \"e...   \n",
       "2  {\"timestamp\": \"2024-03-30T04:03:10.392205\", \"e...   \n",
       "3  {\"item_id\": 12, \"quantity\": 5, \"timestamp\": \"2...   \n",
       "4  {\"item_id\": 11, \"quantity\": 1, \"timestamp\": \"2...   \n",
       "\n",
       "              event_timestamp  \n",
       "0  2024-03-21 12:47:11.012084  \n",
       "1  2024-03-27 11:35:50.208930  \n",
       "2  2024-03-30 04:03:10.392205  \n",
       "3  2024-03-30 04:03:10.394393  \n",
       "4  2024-03-30 04:03:10.394398  "
      ]
     },
     "execution_count": 5,
     "metadata": {},
     "output_type": "execute_result"
    }
   ],
   "source": [
    "event_df.head()"
   ]
  },
  {
   "cell_type": "code",
   "execution_count": 6,
   "id": "4a31647d",
   "metadata": {},
   "outputs": [],
   "source": [
    "# Import line item's table\n",
    "line_item_df = pd.read_csv(r\"C:\\Users\\USER\\Desktop\\AltSchool Africa\\Datasets\\website optimization\\line_items.csv\")"
   ]
  },
  {
   "cell_type": "code",
   "execution_count": 7,
   "id": "7b3a4ff2",
   "metadata": {},
   "outputs": [
    {
     "data": {
      "text/html": [
       "<div>\n",
       "<style scoped>\n",
       "    .dataframe tbody tr th:only-of-type {\n",
       "        vertical-align: middle;\n",
       "    }\n",
       "\n",
       "    .dataframe tbody tr th {\n",
       "        vertical-align: top;\n",
       "    }\n",
       "\n",
       "    .dataframe thead th {\n",
       "        text-align: right;\n",
       "    }\n",
       "</style>\n",
       "<table border=\"1\" class=\"dataframe\">\n",
       "  <thead>\n",
       "    <tr style=\"text-align: right;\">\n",
       "      <th></th>\n",
       "      <th>line_item_id</th>\n",
       "      <th>order_id</th>\n",
       "      <th>item_id</th>\n",
       "      <th>quantity</th>\n",
       "    </tr>\n",
       "  </thead>\n",
       "  <tbody>\n",
       "    <tr>\n",
       "      <th>0</th>\n",
       "      <td>3201</td>\n",
       "      <td>9e950ce3-2e12-479c-a051-493c1a497d49</td>\n",
       "      <td>4</td>\n",
       "      <td>2</td>\n",
       "    </tr>\n",
       "    <tr>\n",
       "      <th>1</th>\n",
       "      <td>3202</td>\n",
       "      <td>9e950ce3-2e12-479c-a051-493c1a497d49</td>\n",
       "      <td>5</td>\n",
       "      <td>4</td>\n",
       "    </tr>\n",
       "    <tr>\n",
       "      <th>2</th>\n",
       "      <td>3203</td>\n",
       "      <td>9e950ce3-2e12-479c-a051-493c1a497d49</td>\n",
       "      <td>9</td>\n",
       "      <td>5</td>\n",
       "    </tr>\n",
       "    <tr>\n",
       "      <th>3</th>\n",
       "      <td>3204</td>\n",
       "      <td>9e950ce3-2e12-479c-a051-493c1a497d49</td>\n",
       "      <td>12</td>\n",
       "      <td>1</td>\n",
       "    </tr>\n",
       "    <tr>\n",
       "      <th>4</th>\n",
       "      <td>3205</td>\n",
       "      <td>9e950ce3-2e12-479c-a051-493c1a497d49</td>\n",
       "      <td>6</td>\n",
       "      <td>2</td>\n",
       "    </tr>\n",
       "  </tbody>\n",
       "</table>\n",
       "</div>"
      ],
      "text/plain": [
       "   line_item_id                              order_id  item_id  quantity\n",
       "0          3201  9e950ce3-2e12-479c-a051-493c1a497d49        4         2\n",
       "1          3202  9e950ce3-2e12-479c-a051-493c1a497d49        5         4\n",
       "2          3203  9e950ce3-2e12-479c-a051-493c1a497d49        9         5\n",
       "3          3204  9e950ce3-2e12-479c-a051-493c1a497d49       12         1\n",
       "4          3205  9e950ce3-2e12-479c-a051-493c1a497d49        6         2"
      ]
     },
     "execution_count": 7,
     "metadata": {},
     "output_type": "execute_result"
    }
   ],
   "source": [
    "line_item_df.head()"
   ]
  },
  {
   "cell_type": "code",
   "execution_count": 8,
   "id": "a211dab7",
   "metadata": {},
   "outputs": [],
   "source": [
    "# Import order's table\n",
    "order_df = pd.read_csv(r\"C:\\Users\\USER\\Desktop\\AltSchool Africa\\Datasets\\website optimization\\orders.csv\")"
   ]
  },
  {
   "cell_type": "code",
   "execution_count": 9,
   "id": "84872094",
   "metadata": {
    "scrolled": true
   },
   "outputs": [
    {
     "data": {
      "text/html": [
       "<div>\n",
       "<style scoped>\n",
       "    .dataframe tbody tr th:only-of-type {\n",
       "        vertical-align: middle;\n",
       "    }\n",
       "\n",
       "    .dataframe tbody tr th {\n",
       "        vertical-align: top;\n",
       "    }\n",
       "\n",
       "    .dataframe thead th {\n",
       "        text-align: right;\n",
       "    }\n",
       "</style>\n",
       "<table border=\"1\" class=\"dataframe\">\n",
       "  <thead>\n",
       "    <tr style=\"text-align: right;\">\n",
       "      <th></th>\n",
       "      <th>order_id</th>\n",
       "      <th>customer_id</th>\n",
       "      <th>status</th>\n",
       "      <th>checked_out_at</th>\n",
       "    </tr>\n",
       "  </thead>\n",
       "  <tbody>\n",
       "    <tr>\n",
       "      <th>0</th>\n",
       "      <td>5e57de16-d33c-4126-bf0b-da65449cc3d1</td>\n",
       "      <td>4f4f5adc-1ca2-4b49-bac4-7b12d6d9d5cf</td>\n",
       "      <td>cancelled</td>\n",
       "      <td>2024-03-30 04:12:10.394413</td>\n",
       "    </tr>\n",
       "    <tr>\n",
       "      <th>1</th>\n",
       "      <td>62a67177-1d7f-44fe-86f8-622686d68f69</td>\n",
       "      <td>5cc88463-6a08-48b5-977c-9683a1c607b2</td>\n",
       "      <td>cancelled</td>\n",
       "      <td>2024-03-30 04:15:10.403885</td>\n",
       "    </tr>\n",
       "    <tr>\n",
       "      <th>2</th>\n",
       "      <td>9e950ce3-2e12-479c-a051-493c1a497d49</td>\n",
       "      <td>cda7bec0-7cbf-4145-baf9-e049bab94504</td>\n",
       "      <td>success</td>\n",
       "      <td>2024-03-30 04:19:10.406794</td>\n",
       "    </tr>\n",
       "    <tr>\n",
       "      <th>3</th>\n",
       "      <td>cddddfea-27ef-437f-817d-8f849d604c3c</td>\n",
       "      <td>e7f07fd1-05af-494a-ae5a-78c405b6f9c3</td>\n",
       "      <td>failed</td>\n",
       "      <td>2024-03-30 04:09:10.411149</td>\n",
       "    </tr>\n",
       "    <tr>\n",
       "      <th>4</th>\n",
       "      <td>170a66c8-6b39-468c-935c-445eb6be9fdf</td>\n",
       "      <td>873618f1-c201-4f8c-94bc-4cfc3d6d8cc8</td>\n",
       "      <td>cancelled</td>\n",
       "      <td>2024-03-30 04:09:10.412870</td>\n",
       "    </tr>\n",
       "  </tbody>\n",
       "</table>\n",
       "</div>"
      ],
      "text/plain": [
       "                               order_id                           customer_id  \\\n",
       "0  5e57de16-d33c-4126-bf0b-da65449cc3d1  4f4f5adc-1ca2-4b49-bac4-7b12d6d9d5cf   \n",
       "1  62a67177-1d7f-44fe-86f8-622686d68f69  5cc88463-6a08-48b5-977c-9683a1c607b2   \n",
       "2  9e950ce3-2e12-479c-a051-493c1a497d49  cda7bec0-7cbf-4145-baf9-e049bab94504   \n",
       "3  cddddfea-27ef-437f-817d-8f849d604c3c  e7f07fd1-05af-494a-ae5a-78c405b6f9c3   \n",
       "4  170a66c8-6b39-468c-935c-445eb6be9fdf  873618f1-c201-4f8c-94bc-4cfc3d6d8cc8   \n",
       "\n",
       "      status              checked_out_at  \n",
       "0  cancelled  2024-03-30 04:12:10.394413  \n",
       "1  cancelled  2024-03-30 04:15:10.403885  \n",
       "2    success  2024-03-30 04:19:10.406794  \n",
       "3     failed  2024-03-30 04:09:10.411149  \n",
       "4  cancelled  2024-03-30 04:09:10.412870  "
      ]
     },
     "execution_count": 9,
     "metadata": {},
     "output_type": "execute_result"
    }
   ],
   "source": [
    "order_df.head()"
   ]
  },
  {
   "cell_type": "code",
   "execution_count": 10,
   "id": "5a38bd26",
   "metadata": {},
   "outputs": [],
   "source": [
    "# Import product's table\n",
    "product_df = pd.read_csv(r\"C:\\Users\\USER\\Desktop\\AltSchool Africa\\Datasets\\website optimization\\products.csv\")"
   ]
  },
  {
   "cell_type": "code",
   "execution_count": 11,
   "id": "a710c2ae",
   "metadata": {},
   "outputs": [
    {
     "data": {
      "text/html": [
       "<div>\n",
       "<style scoped>\n",
       "    .dataframe tbody tr th:only-of-type {\n",
       "        vertical-align: middle;\n",
       "    }\n",
       "\n",
       "    .dataframe tbody tr th {\n",
       "        vertical-align: top;\n",
       "    }\n",
       "\n",
       "    .dataframe thead th {\n",
       "        text-align: right;\n",
       "    }\n",
       "</style>\n",
       "<table border=\"1\" class=\"dataframe\">\n",
       "  <thead>\n",
       "    <tr style=\"text-align: right;\">\n",
       "      <th></th>\n",
       "      <th>id</th>\n",
       "      <th>name</th>\n",
       "      <th>price</th>\n",
       "    </tr>\n",
       "  </thead>\n",
       "  <tbody>\n",
       "    <tr>\n",
       "      <th>0</th>\n",
       "      <td>1</td>\n",
       "      <td>iPhone 13</td>\n",
       "      <td>1099.99</td>\n",
       "    </tr>\n",
       "    <tr>\n",
       "      <th>1</th>\n",
       "      <td>2</td>\n",
       "      <td>Samsung Galaxy S21</td>\n",
       "      <td>899.99</td>\n",
       "    </tr>\n",
       "    <tr>\n",
       "      <th>2</th>\n",
       "      <td>3</td>\n",
       "      <td>Sony PlayStation 5</td>\n",
       "      <td>499.99</td>\n",
       "    </tr>\n",
       "    <tr>\n",
       "      <th>3</th>\n",
       "      <td>4</td>\n",
       "      <td>Microsoft Xbox Series X</td>\n",
       "      <td>499.99</td>\n",
       "    </tr>\n",
       "    <tr>\n",
       "      <th>4</th>\n",
       "      <td>5</td>\n",
       "      <td>Nike Air Max 270</td>\n",
       "      <td>129.99</td>\n",
       "    </tr>\n",
       "    <tr>\n",
       "      <th>5</th>\n",
       "      <td>6</td>\n",
       "      <td>Adidas Ultraboost</td>\n",
       "      <td>180.00</td>\n",
       "    </tr>\n",
       "    <tr>\n",
       "      <th>6</th>\n",
       "      <td>7</td>\n",
       "      <td>Apple AirPods Pro</td>\n",
       "      <td>249.99</td>\n",
       "    </tr>\n",
       "    <tr>\n",
       "      <th>7</th>\n",
       "      <td>8</td>\n",
       "      <td>Sony WH-1000XM4 Headphones</td>\n",
       "      <td>349.99</td>\n",
       "    </tr>\n",
       "    <tr>\n",
       "      <th>8</th>\n",
       "      <td>9</td>\n",
       "      <td>Nintendo Switch</td>\n",
       "      <td>299.99</td>\n",
       "    </tr>\n",
       "    <tr>\n",
       "      <th>9</th>\n",
       "      <td>10</td>\n",
       "      <td>Dell XPS 13 Laptop</td>\n",
       "      <td>1299.99</td>\n",
       "    </tr>\n",
       "    <tr>\n",
       "      <th>10</th>\n",
       "      <td>11</td>\n",
       "      <td>Canon EOS R5 Camera</td>\n",
       "      <td>3999.99</td>\n",
       "    </tr>\n",
       "    <tr>\n",
       "      <th>11</th>\n",
       "      <td>12</td>\n",
       "      <td>Coca-Cola 12-Pack</td>\n",
       "      <td>5.99</td>\n",
       "    </tr>\n",
       "    <tr>\n",
       "      <th>12</th>\n",
       "      <td>13</td>\n",
       "      <td>Starbucks Coffee Beans</td>\n",
       "      <td>12.99</td>\n",
       "    </tr>\n",
       "    <tr>\n",
       "      <th>13</th>\n",
       "      <td>14</td>\n",
       "      <td>Samsung 55-Inch 4K Smart TV</td>\n",
       "      <td>799.99</td>\n",
       "    </tr>\n",
       "    <tr>\n",
       "      <th>14</th>\n",
       "      <td>15</td>\n",
       "      <td>Fitbit Charge 4</td>\n",
       "      <td>149.95</td>\n",
       "    </tr>\n",
       "  </tbody>\n",
       "</table>\n",
       "</div>"
      ],
      "text/plain": [
       "    id                         name    price\n",
       "0    1                    iPhone 13  1099.99\n",
       "1    2           Samsung Galaxy S21   899.99\n",
       "2    3           Sony PlayStation 5   499.99\n",
       "3    4      Microsoft Xbox Series X   499.99\n",
       "4    5             Nike Air Max 270   129.99\n",
       "5    6            Adidas Ultraboost   180.00\n",
       "6    7            Apple AirPods Pro   249.99\n",
       "7    8   Sony WH-1000XM4 Headphones   349.99\n",
       "8    9              Nintendo Switch   299.99\n",
       "9   10           Dell XPS 13 Laptop  1299.99\n",
       "10  11          Canon EOS R5 Camera  3999.99\n",
       "11  12            Coca-Cola 12-Pack     5.99\n",
       "12  13       Starbucks Coffee Beans    12.99\n",
       "13  14  Samsung 55-Inch 4K Smart TV   799.99\n",
       "14  15              Fitbit Charge 4   149.95"
      ]
     },
     "execution_count": 11,
     "metadata": {},
     "output_type": "execute_result"
    }
   ],
   "source": [
    "product_df"
   ]
  },
  {
   "cell_type": "code",
   "execution_count": 12,
   "id": "bd0e054c",
   "metadata": {},
   "outputs": [],
   "source": [
    "# Merge customer's dataframe and event's dataframe based on their common primary key \"customer_id\"\n",
    "m1 = customer_df.merge(event_df, how = \"outer\", on = \"customer_id\")"
   ]
  },
  {
   "cell_type": "code",
   "execution_count": 13,
   "id": "c7b1b34f",
   "metadata": {},
   "outputs": [],
   "source": [
    "# Rename column \"id\" in the product's dataframe as \"item id\" so that it can match with \"item id\" in line item's dataframe\n",
    "product_df.rename(columns= {\"id\": \"item_id\"}, inplace=True)"
   ]
  },
  {
   "cell_type": "code",
   "execution_count": 14,
   "id": "e0f982bb",
   "metadata": {},
   "outputs": [],
   "source": [
    "# Merge product's dataframe and line item's dataframe based on their common primary key \"item_id\"\n",
    "m2 = product_df.merge(line_item_df,how = \"outer\", on = \"item_id\")"
   ]
  },
  {
   "cell_type": "code",
   "execution_count": 15,
   "id": "dc0989a7",
   "metadata": {},
   "outputs": [],
   "source": [
    "# Merge \"m1\" and order's dataframe based on their common primary key \"customer_id\"\n",
    "m3 = m1.merge(order_df, how = \"outer\", on = \"customer_id\")"
   ]
  },
  {
   "cell_type": "code",
   "execution_count": 16,
   "id": "3e1c4caf",
   "metadata": {},
   "outputs": [],
   "source": [
    "# Merge the merged dataframe \"m3\" and \"m2\" based on their common primary key \"order_id\"\n",
    "m4 = m3.merge(m2, how = \"outer\", on = \"order_id\")"
   ]
  },
  {
   "cell_type": "code",
   "execution_count": 17,
   "id": "f4518114",
   "metadata": {},
   "outputs": [],
   "source": [
    "final_df = m4 # Output of our merged dataset"
   ]
  },
  {
   "cell_type": "code",
   "execution_count": 18,
   "id": "78134765",
   "metadata": {},
   "outputs": [
    {
     "data": {
      "text/html": [
       "<div>\n",
       "<style scoped>\n",
       "    .dataframe tbody tr th:only-of-type {\n",
       "        vertical-align: middle;\n",
       "    }\n",
       "\n",
       "    .dataframe tbody tr th {\n",
       "        vertical-align: top;\n",
       "    }\n",
       "\n",
       "    .dataframe thead th {\n",
       "        text-align: right;\n",
       "    }\n",
       "</style>\n",
       "<table border=\"1\" class=\"dataframe\">\n",
       "  <thead>\n",
       "    <tr style=\"text-align: right;\">\n",
       "      <th></th>\n",
       "      <th>customer_id</th>\n",
       "      <th>device_id</th>\n",
       "      <th>location</th>\n",
       "      <th>currency</th>\n",
       "      <th>event_id</th>\n",
       "      <th>event_data</th>\n",
       "      <th>event_timestamp</th>\n",
       "      <th>order_id</th>\n",
       "      <th>status</th>\n",
       "      <th>checked_out_at</th>\n",
       "      <th>item_id</th>\n",
       "      <th>name</th>\n",
       "      <th>price</th>\n",
       "      <th>line_item_id</th>\n",
       "      <th>quantity</th>\n",
       "    </tr>\n",
       "  </thead>\n",
       "  <tbody>\n",
       "    <tr>\n",
       "      <th>0</th>\n",
       "      <td>4f4f5adc-1ca2-4b49-bac4-7b12d6d9d5cf</td>\n",
       "      <td>ef424b22-2393-4708-b065-c68152e8b377</td>\n",
       "      <td>Oman</td>\n",
       "      <td>USD</td>\n",
       "      <td>14753</td>\n",
       "      <td>{\"timestamp\": \"2024-03-21T12:47:11.012084\", \"e...</td>\n",
       "      <td>2024-03-21 12:47:11.012084</td>\n",
       "      <td>5e57de16-d33c-4126-bf0b-da65449cc3d1</td>\n",
       "      <td>cancelled</td>\n",
       "      <td>2024-03-30 04:12:10.394413</td>\n",
       "      <td>NaN</td>\n",
       "      <td>NaN</td>\n",
       "      <td>NaN</td>\n",
       "      <td>NaN</td>\n",
       "      <td>NaN</td>\n",
       "    </tr>\n",
       "    <tr>\n",
       "      <th>1</th>\n",
       "      <td>4f4f5adc-1ca2-4b49-bac4-7b12d6d9d5cf</td>\n",
       "      <td>ef424b22-2393-4708-b065-c68152e8b377</td>\n",
       "      <td>Oman</td>\n",
       "      <td>USD</td>\n",
       "      <td>14754</td>\n",
       "      <td>{\"timestamp\": \"2024-03-27T11:35:50.208930\", \"e...</td>\n",
       "      <td>2024-03-27 11:35:50.208930</td>\n",
       "      <td>5e57de16-d33c-4126-bf0b-da65449cc3d1</td>\n",
       "      <td>cancelled</td>\n",
       "      <td>2024-03-30 04:12:10.394413</td>\n",
       "      <td>NaN</td>\n",
       "      <td>NaN</td>\n",
       "      <td>NaN</td>\n",
       "      <td>NaN</td>\n",
       "      <td>NaN</td>\n",
       "    </tr>\n",
       "    <tr>\n",
       "      <th>2</th>\n",
       "      <td>4f4f5adc-1ca2-4b49-bac4-7b12d6d9d5cf</td>\n",
       "      <td>ef424b22-2393-4708-b065-c68152e8b377</td>\n",
       "      <td>Oman</td>\n",
       "      <td>USD</td>\n",
       "      <td>14755</td>\n",
       "      <td>{\"timestamp\": \"2024-03-30T04:03:10.392205\", \"e...</td>\n",
       "      <td>2024-03-30 04:03:10.392205</td>\n",
       "      <td>5e57de16-d33c-4126-bf0b-da65449cc3d1</td>\n",
       "      <td>cancelled</td>\n",
       "      <td>2024-03-30 04:12:10.394413</td>\n",
       "      <td>NaN</td>\n",
       "      <td>NaN</td>\n",
       "      <td>NaN</td>\n",
       "      <td>NaN</td>\n",
       "      <td>NaN</td>\n",
       "    </tr>\n",
       "    <tr>\n",
       "      <th>3</th>\n",
       "      <td>4f4f5adc-1ca2-4b49-bac4-7b12d6d9d5cf</td>\n",
       "      <td>ef424b22-2393-4708-b065-c68152e8b377</td>\n",
       "      <td>Oman</td>\n",
       "      <td>USD</td>\n",
       "      <td>14756</td>\n",
       "      <td>{\"item_id\": 12, \"quantity\": 5, \"timestamp\": \"2...</td>\n",
       "      <td>2024-03-30 04:03:10.394393</td>\n",
       "      <td>5e57de16-d33c-4126-bf0b-da65449cc3d1</td>\n",
       "      <td>cancelled</td>\n",
       "      <td>2024-03-30 04:12:10.394413</td>\n",
       "      <td>NaN</td>\n",
       "      <td>NaN</td>\n",
       "      <td>NaN</td>\n",
       "      <td>NaN</td>\n",
       "      <td>NaN</td>\n",
       "    </tr>\n",
       "    <tr>\n",
       "      <th>4</th>\n",
       "      <td>4f4f5adc-1ca2-4b49-bac4-7b12d6d9d5cf</td>\n",
       "      <td>ef424b22-2393-4708-b065-c68152e8b377</td>\n",
       "      <td>Oman</td>\n",
       "      <td>USD</td>\n",
       "      <td>14757</td>\n",
       "      <td>{\"item_id\": 11, \"quantity\": 1, \"timestamp\": \"2...</td>\n",
       "      <td>2024-03-30 04:03:10.394398</td>\n",
       "      <td>5e57de16-d33c-4126-bf0b-da65449cc3d1</td>\n",
       "      <td>cancelled</td>\n",
       "      <td>2024-03-30 04:12:10.394413</td>\n",
       "      <td>NaN</td>\n",
       "      <td>NaN</td>\n",
       "      <td>NaN</td>\n",
       "      <td>NaN</td>\n",
       "      <td>NaN</td>\n",
       "    </tr>\n",
       "  </tbody>\n",
       "</table>\n",
       "</div>"
      ],
      "text/plain": [
       "                            customer_id                             device_id  \\\n",
       "0  4f4f5adc-1ca2-4b49-bac4-7b12d6d9d5cf  ef424b22-2393-4708-b065-c68152e8b377   \n",
       "1  4f4f5adc-1ca2-4b49-bac4-7b12d6d9d5cf  ef424b22-2393-4708-b065-c68152e8b377   \n",
       "2  4f4f5adc-1ca2-4b49-bac4-7b12d6d9d5cf  ef424b22-2393-4708-b065-c68152e8b377   \n",
       "3  4f4f5adc-1ca2-4b49-bac4-7b12d6d9d5cf  ef424b22-2393-4708-b065-c68152e8b377   \n",
       "4  4f4f5adc-1ca2-4b49-bac4-7b12d6d9d5cf  ef424b22-2393-4708-b065-c68152e8b377   \n",
       "\n",
       "  location currency  event_id  \\\n",
       "0     Oman      USD     14753   \n",
       "1     Oman      USD     14754   \n",
       "2     Oman      USD     14755   \n",
       "3     Oman      USD     14756   \n",
       "4     Oman      USD     14757   \n",
       "\n",
       "                                          event_data  \\\n",
       "0  {\"timestamp\": \"2024-03-21T12:47:11.012084\", \"e...   \n",
       "1  {\"timestamp\": \"2024-03-27T11:35:50.208930\", \"e...   \n",
       "2  {\"timestamp\": \"2024-03-30T04:03:10.392205\", \"e...   \n",
       "3  {\"item_id\": 12, \"quantity\": 5, \"timestamp\": \"2...   \n",
       "4  {\"item_id\": 11, \"quantity\": 1, \"timestamp\": \"2...   \n",
       "\n",
       "              event_timestamp                              order_id  \\\n",
       "0  2024-03-21 12:47:11.012084  5e57de16-d33c-4126-bf0b-da65449cc3d1   \n",
       "1  2024-03-27 11:35:50.208930  5e57de16-d33c-4126-bf0b-da65449cc3d1   \n",
       "2  2024-03-30 04:03:10.392205  5e57de16-d33c-4126-bf0b-da65449cc3d1   \n",
       "3  2024-03-30 04:03:10.394393  5e57de16-d33c-4126-bf0b-da65449cc3d1   \n",
       "4  2024-03-30 04:03:10.394398  5e57de16-d33c-4126-bf0b-da65449cc3d1   \n",
       "\n",
       "      status              checked_out_at  item_id name  price  line_item_id  \\\n",
       "0  cancelled  2024-03-30 04:12:10.394413      NaN  NaN    NaN           NaN   \n",
       "1  cancelled  2024-03-30 04:12:10.394413      NaN  NaN    NaN           NaN   \n",
       "2  cancelled  2024-03-30 04:12:10.394413      NaN  NaN    NaN           NaN   \n",
       "3  cancelled  2024-03-30 04:12:10.394413      NaN  NaN    NaN           NaN   \n",
       "4  cancelled  2024-03-30 04:12:10.394413      NaN  NaN    NaN           NaN   \n",
       "\n",
       "   quantity  \n",
       "0       NaN  \n",
       "1       NaN  \n",
       "2       NaN  \n",
       "3       NaN  \n",
       "4       NaN  "
      ]
     },
     "execution_count": 18,
     "metadata": {},
     "output_type": "execute_result"
    }
   ],
   "source": [
    "final_df.head()"
   ]
  },
  {
   "cell_type": "code",
   "execution_count": 19,
   "id": "64a1dd0b",
   "metadata": {},
   "outputs": [
    {
     "data": {
      "text/plain": [
       "(652958, 15)"
      ]
     },
     "execution_count": 19,
     "metadata": {},
     "output_type": "execute_result"
    }
   ],
   "source": [
    "# Dimension of our dataset\n",
    "final_df.shape"
   ]
  },
  {
   "cell_type": "markdown",
   "id": "20108bb9",
   "metadata": {},
   "source": [
    "## Data Cleaning"
   ]
  },
  {
   "cell_type": "code",
   "execution_count": 20,
   "id": "bfbc7fca",
   "metadata": {},
   "outputs": [
    {
     "data": {
      "text/plain": [
       "customer_id            0\n",
       "device_id              0\n",
       "location               0\n",
       "currency               0\n",
       "event_id               0\n",
       "event_data             0\n",
       "event_timestamp        0\n",
       "order_id            7073\n",
       "status              7073\n",
       "checked_out_at      7073\n",
       "item_id            74638\n",
       "name               74638\n",
       "price              74638\n",
       "line_item_id       74638\n",
       "quantity           74638\n",
       "dtype: int64"
      ]
     },
     "execution_count": 20,
     "metadata": {},
     "output_type": "execute_result"
    }
   ],
   "source": [
    "# Checking our data for missing values\n",
    "final_df.isna().sum()"
   ]
  },
  {
   "cell_type": "code",
   "execution_count": 21,
   "id": "a475e9f7",
   "metadata": {},
   "outputs": [
    {
     "data": {
      "text/plain": [
       "customer_id         0.000000\n",
       "device_id           0.000000\n",
       "location            0.000000\n",
       "currency            0.000000\n",
       "event_id            0.000000\n",
       "event_data          0.000000\n",
       "event_timestamp     0.000000\n",
       "order_id            1.083224\n",
       "status              1.083224\n",
       "checked_out_at      1.083224\n",
       "item_id            11.430751\n",
       "name               11.430751\n",
       "price              11.430751\n",
       "line_item_id       11.430751\n",
       "quantity           11.430751\n",
       "dtype: float64"
      ]
     },
     "execution_count": 21,
     "metadata": {},
     "output_type": "execute_result"
    }
   ],
   "source": [
    "# Checking our data for percentage of missing values\n",
    "row, column = final_df.shape\n",
    "missing_percentage = final_df.isna().sum()/ row * 100\n",
    "missing_percentage"
   ]
  },
  {
   "cell_type": "markdown",
   "id": "1805c048",
   "metadata": {},
   "source": [
    "Given that the missing values do not form a major part of our data and are from columns such as \"order_id,\" \"status,\" \"checked_out_at,\" \"item_id,\" \"name,\" \"price,\" \"line_item_id,\" and \"quantity,\" all of which are interrelated, we have concluded that attempting to fill in these missing values through extrapolation or other methods would be inappropriate as intentionally duplicating or fabricating IDs goes against the integrity of the dataset and the underlying data structure.\n",
    "\n",
    "This is why we've chosen to remove rows containing missing values as a step to maintain the dataset's quality and ensure the accuracy of future analyses.¶"
   ]
  },
  {
   "cell_type": "code",
   "execution_count": 22,
   "id": "62fdc561",
   "metadata": {},
   "outputs": [
    {
     "data": {
      "text/html": [
       "<div>\n",
       "<style scoped>\n",
       "    .dataframe tbody tr th:only-of-type {\n",
       "        vertical-align: middle;\n",
       "    }\n",
       "\n",
       "    .dataframe tbody tr th {\n",
       "        vertical-align: top;\n",
       "    }\n",
       "\n",
       "    .dataframe thead th {\n",
       "        text-align: right;\n",
       "    }\n",
       "</style>\n",
       "<table border=\"1\" class=\"dataframe\">\n",
       "  <thead>\n",
       "    <tr style=\"text-align: right;\">\n",
       "      <th></th>\n",
       "      <th>customer_id</th>\n",
       "      <th>device_id</th>\n",
       "      <th>location</th>\n",
       "      <th>currency</th>\n",
       "      <th>event_id</th>\n",
       "      <th>event_data</th>\n",
       "      <th>event_timestamp</th>\n",
       "      <th>order_id</th>\n",
       "      <th>status</th>\n",
       "      <th>checked_out_at</th>\n",
       "      <th>item_id</th>\n",
       "      <th>name</th>\n",
       "      <th>price</th>\n",
       "      <th>line_item_id</th>\n",
       "      <th>quantity</th>\n",
       "    </tr>\n",
       "  </thead>\n",
       "  <tbody>\n",
       "    <tr>\n",
       "      <th>0</th>\n",
       "      <td>cda7bec0-7cbf-4145-baf9-e049bab94504</td>\n",
       "      <td>33b485de-7338-4997-b1d0-b988ba17b245</td>\n",
       "      <td>Saint Helena</td>\n",
       "      <td>NGN</td>\n",
       "      <td>14786</td>\n",
       "      <td>{\"timestamp\": \"2024-03-26T22:05:58.863661\", \"e...</td>\n",
       "      <td>2024-03-26 22:05:58.863661</td>\n",
       "      <td>9e950ce3-2e12-479c-a051-493c1a497d49</td>\n",
       "      <td>success</td>\n",
       "      <td>2024-03-30 04:19:10.406794</td>\n",
       "      <td>4.0</td>\n",
       "      <td>Microsoft Xbox Series X</td>\n",
       "      <td>499.99</td>\n",
       "      <td>3201.0</td>\n",
       "      <td>2.0</td>\n",
       "    </tr>\n",
       "    <tr>\n",
       "      <th>1</th>\n",
       "      <td>cda7bec0-7cbf-4145-baf9-e049bab94504</td>\n",
       "      <td>33b485de-7338-4997-b1d0-b988ba17b245</td>\n",
       "      <td>Saint Helena</td>\n",
       "      <td>NGN</td>\n",
       "      <td>14786</td>\n",
       "      <td>{\"timestamp\": \"2024-03-26T22:05:58.863661\", \"e...</td>\n",
       "      <td>2024-03-26 22:05:58.863661</td>\n",
       "      <td>9e950ce3-2e12-479c-a051-493c1a497d49</td>\n",
       "      <td>success</td>\n",
       "      <td>2024-03-30 04:19:10.406794</td>\n",
       "      <td>5.0</td>\n",
       "      <td>Nike Air Max 270</td>\n",
       "      <td>129.99</td>\n",
       "      <td>3202.0</td>\n",
       "      <td>4.0</td>\n",
       "    </tr>\n",
       "    <tr>\n",
       "      <th>2</th>\n",
       "      <td>cda7bec0-7cbf-4145-baf9-e049bab94504</td>\n",
       "      <td>33b485de-7338-4997-b1d0-b988ba17b245</td>\n",
       "      <td>Saint Helena</td>\n",
       "      <td>NGN</td>\n",
       "      <td>14786</td>\n",
       "      <td>{\"timestamp\": \"2024-03-26T22:05:58.863661\", \"e...</td>\n",
       "      <td>2024-03-26 22:05:58.863661</td>\n",
       "      <td>9e950ce3-2e12-479c-a051-493c1a497d49</td>\n",
       "      <td>success</td>\n",
       "      <td>2024-03-30 04:19:10.406794</td>\n",
       "      <td>6.0</td>\n",
       "      <td>Adidas Ultraboost</td>\n",
       "      <td>180.00</td>\n",
       "      <td>3205.0</td>\n",
       "      <td>2.0</td>\n",
       "    </tr>\n",
       "    <tr>\n",
       "      <th>3</th>\n",
       "      <td>cda7bec0-7cbf-4145-baf9-e049bab94504</td>\n",
       "      <td>33b485de-7338-4997-b1d0-b988ba17b245</td>\n",
       "      <td>Saint Helena</td>\n",
       "      <td>NGN</td>\n",
       "      <td>14786</td>\n",
       "      <td>{\"timestamp\": \"2024-03-26T22:05:58.863661\", \"e...</td>\n",
       "      <td>2024-03-26 22:05:58.863661</td>\n",
       "      <td>9e950ce3-2e12-479c-a051-493c1a497d49</td>\n",
       "      <td>success</td>\n",
       "      <td>2024-03-30 04:19:10.406794</td>\n",
       "      <td>9.0</td>\n",
       "      <td>Nintendo Switch</td>\n",
       "      <td>299.99</td>\n",
       "      <td>3203.0</td>\n",
       "      <td>5.0</td>\n",
       "    </tr>\n",
       "    <tr>\n",
       "      <th>4</th>\n",
       "      <td>cda7bec0-7cbf-4145-baf9-e049bab94504</td>\n",
       "      <td>33b485de-7338-4997-b1d0-b988ba17b245</td>\n",
       "      <td>Saint Helena</td>\n",
       "      <td>NGN</td>\n",
       "      <td>14786</td>\n",
       "      <td>{\"timestamp\": \"2024-03-26T22:05:58.863661\", \"e...</td>\n",
       "      <td>2024-03-26 22:05:58.863661</td>\n",
       "      <td>9e950ce3-2e12-479c-a051-493c1a497d49</td>\n",
       "      <td>success</td>\n",
       "      <td>2024-03-30 04:19:10.406794</td>\n",
       "      <td>11.0</td>\n",
       "      <td>Canon EOS R5 Camera</td>\n",
       "      <td>3999.99</td>\n",
       "      <td>3206.0</td>\n",
       "      <td>4.0</td>\n",
       "    </tr>\n",
       "  </tbody>\n",
       "</table>\n",
       "</div>"
      ],
      "text/plain": [
       "                            customer_id                             device_id  \\\n",
       "0  cda7bec0-7cbf-4145-baf9-e049bab94504  33b485de-7338-4997-b1d0-b988ba17b245   \n",
       "1  cda7bec0-7cbf-4145-baf9-e049bab94504  33b485de-7338-4997-b1d0-b988ba17b245   \n",
       "2  cda7bec0-7cbf-4145-baf9-e049bab94504  33b485de-7338-4997-b1d0-b988ba17b245   \n",
       "3  cda7bec0-7cbf-4145-baf9-e049bab94504  33b485de-7338-4997-b1d0-b988ba17b245   \n",
       "4  cda7bec0-7cbf-4145-baf9-e049bab94504  33b485de-7338-4997-b1d0-b988ba17b245   \n",
       "\n",
       "       location currency  event_id  \\\n",
       "0  Saint Helena      NGN     14786   \n",
       "1  Saint Helena      NGN     14786   \n",
       "2  Saint Helena      NGN     14786   \n",
       "3  Saint Helena      NGN     14786   \n",
       "4  Saint Helena      NGN     14786   \n",
       "\n",
       "                                          event_data  \\\n",
       "0  {\"timestamp\": \"2024-03-26T22:05:58.863661\", \"e...   \n",
       "1  {\"timestamp\": \"2024-03-26T22:05:58.863661\", \"e...   \n",
       "2  {\"timestamp\": \"2024-03-26T22:05:58.863661\", \"e...   \n",
       "3  {\"timestamp\": \"2024-03-26T22:05:58.863661\", \"e...   \n",
       "4  {\"timestamp\": \"2024-03-26T22:05:58.863661\", \"e...   \n",
       "\n",
       "              event_timestamp                              order_id   status  \\\n",
       "0  2024-03-26 22:05:58.863661  9e950ce3-2e12-479c-a051-493c1a497d49  success   \n",
       "1  2024-03-26 22:05:58.863661  9e950ce3-2e12-479c-a051-493c1a497d49  success   \n",
       "2  2024-03-26 22:05:58.863661  9e950ce3-2e12-479c-a051-493c1a497d49  success   \n",
       "3  2024-03-26 22:05:58.863661  9e950ce3-2e12-479c-a051-493c1a497d49  success   \n",
       "4  2024-03-26 22:05:58.863661  9e950ce3-2e12-479c-a051-493c1a497d49  success   \n",
       "\n",
       "               checked_out_at  item_id                     name    price  \\\n",
       "0  2024-03-30 04:19:10.406794      4.0  Microsoft Xbox Series X   499.99   \n",
       "1  2024-03-30 04:19:10.406794      5.0         Nike Air Max 270   129.99   \n",
       "2  2024-03-30 04:19:10.406794      6.0        Adidas Ultraboost   180.00   \n",
       "3  2024-03-30 04:19:10.406794      9.0          Nintendo Switch   299.99   \n",
       "4  2024-03-30 04:19:10.406794     11.0      Canon EOS R5 Camera  3999.99   \n",
       "\n",
       "   line_item_id  quantity  \n",
       "0        3201.0       2.0  \n",
       "1        3202.0       4.0  \n",
       "2        3205.0       2.0  \n",
       "3        3203.0       5.0  \n",
       "4        3206.0       4.0  "
      ]
     },
     "execution_count": 22,
     "metadata": {},
     "output_type": "execute_result"
    }
   ],
   "source": [
    "# Dropping rows with missing values\n",
    "final_df.dropna(inplace= True)\n",
    "final_df.reset_index(drop=True, inplace=True)\n",
    "final_df.head()"
   ]
  },
  {
   "cell_type": "code",
   "execution_count": 23,
   "id": "ebffe716",
   "metadata": {},
   "outputs": [
    {
     "name": "stdout",
     "output_type": "stream",
     "text": [
      "<class 'pandas.core.frame.DataFrame'>\n",
      "RangeIndex: 578320 entries, 0 to 578319\n",
      "Data columns (total 15 columns):\n",
      " #   Column           Non-Null Count   Dtype  \n",
      "---  ------           --------------   -----  \n",
      " 0   customer_id      578320 non-null  object \n",
      " 1   device_id        578320 non-null  object \n",
      " 2   location         578320 non-null  object \n",
      " 3   currency         578320 non-null  object \n",
      " 4   event_id         578320 non-null  int64  \n",
      " 5   event_data       578320 non-null  object \n",
      " 6   event_timestamp  578320 non-null  object \n",
      " 7   order_id         578320 non-null  object \n",
      " 8   status           578320 non-null  object \n",
      " 9   checked_out_at   578320 non-null  object \n",
      " 10  item_id          578320 non-null  float64\n",
      " 11  name             578320 non-null  object \n",
      " 12  price            578320 non-null  float64\n",
      " 13  line_item_id     578320 non-null  float64\n",
      " 14  quantity         578320 non-null  float64\n",
      "dtypes: float64(4), int64(1), object(10)\n",
      "memory usage: 66.2+ MB\n"
     ]
    }
   ],
   "source": [
    "# Getting information about our data with regards to total number of observations in each column and data type\n",
    "final_df.info()"
   ]
  },
  {
   "cell_type": "code",
   "execution_count": 24,
   "id": "18262a74",
   "metadata": {},
   "outputs": [
    {
     "name": "stdout",
     "output_type": "stream",
     "text": [
      "<class 'pandas.core.frame.DataFrame'>\n",
      "RangeIndex: 578320 entries, 0 to 578319\n",
      "Data columns (total 15 columns):\n",
      " #   Column           Non-Null Count   Dtype         \n",
      "---  ------           --------------   -----         \n",
      " 0   customer_id      578320 non-null  object        \n",
      " 1   device_id        578320 non-null  object        \n",
      " 2   location         578320 non-null  object        \n",
      " 3   currency         578320 non-null  object        \n",
      " 4   event_id         578320 non-null  object        \n",
      " 5   event_data       578320 non-null  object        \n",
      " 6   event_timestamp  578320 non-null  datetime64[ns]\n",
      " 7   order_id         578320 non-null  object        \n",
      " 8   status           578320 non-null  object        \n",
      " 9   checked_out_at   578320 non-null  datetime64[ns]\n",
      " 10  item_id          578320 non-null  object        \n",
      " 11  name             578320 non-null  object        \n",
      " 12  price            578320 non-null  float64       \n",
      " 13  line_item_id     578320 non-null  object        \n",
      " 14  quantity         578320 non-null  int64         \n",
      "dtypes: datetime64[ns](2), float64(1), int64(1), object(11)\n",
      "memory usage: 66.2+ MB\n"
     ]
    }
   ],
   "source": [
    "# Casting our columns to their appropriate data types\n",
    "final_df = final_df.astype({'event_id': 'object', 'item_id': 'object', 'line_item_id': 'object', 'quantity': 'int64', 'event_timestamp': 'datetime64[ns]', 'checked_out_at': 'datetime64[ns]'})\n",
    "final_df.info()"
   ]
  },
  {
   "cell_type": "code",
   "execution_count": 25,
   "id": "924c6500",
   "metadata": {},
   "outputs": [
    {
     "data": {
      "text/plain": [
       "Index(['customer_id', 'device_id', 'location', 'currency', 'event_id',\n",
       "       'event_data', 'event_timestamp', 'order_id', 'status', 'checked_out_at',\n",
       "       'item_id', 'name', 'price', 'line_item_id', 'quantity'],\n",
       "      dtype='object')"
      ]
     },
     "execution_count": 25,
     "metadata": {},
     "output_type": "execute_result"
    }
   ],
   "source": [
    "# Getting our column names\n",
    "final_df.columns"
   ]
  },
  {
   "cell_type": "code",
   "execution_count": 26,
   "id": "179f0798",
   "metadata": {},
   "outputs": [],
   "source": [
    "# Rename \"name\" to \"product_name\" for more informative description\n",
    "final_df.rename({\"name\": \"product_name\"}, axis = 1, inplace= True)"
   ]
  },
  {
   "cell_type": "code",
   "execution_count": 27,
   "id": "ea042a86",
   "metadata": {},
   "outputs": [
    {
     "data": {
      "text/html": [
       "<div>\n",
       "<style scoped>\n",
       "    .dataframe tbody tr th:only-of-type {\n",
       "        vertical-align: middle;\n",
       "    }\n",
       "\n",
       "    .dataframe tbody tr th {\n",
       "        vertical-align: top;\n",
       "    }\n",
       "\n",
       "    .dataframe thead th {\n",
       "        text-align: right;\n",
       "    }\n",
       "</style>\n",
       "<table border=\"1\" class=\"dataframe\">\n",
       "  <thead>\n",
       "    <tr style=\"text-align: right;\">\n",
       "      <th></th>\n",
       "      <th>customer_id</th>\n",
       "      <th>device_id</th>\n",
       "      <th>location</th>\n",
       "      <th>currency</th>\n",
       "      <th>event_id</th>\n",
       "      <th>event_data</th>\n",
       "      <th>event_timestamp</th>\n",
       "      <th>order_id</th>\n",
       "      <th>status</th>\n",
       "      <th>checked_out_at</th>\n",
       "      <th>item_id</th>\n",
       "      <th>product_name</th>\n",
       "      <th>price</th>\n",
       "      <th>line_item_id</th>\n",
       "      <th>quantity</th>\n",
       "    </tr>\n",
       "  </thead>\n",
       "  <tbody>\n",
       "    <tr>\n",
       "      <th>0</th>\n",
       "      <td>cda7bec0-7cbf-4145-baf9-e049bab94504</td>\n",
       "      <td>33b485de-7338-4997-b1d0-b988ba17b245</td>\n",
       "      <td>Saint Helena</td>\n",
       "      <td>NGN</td>\n",
       "      <td>14786</td>\n",
       "      <td>{\"timestamp\": \"2024-03-26T22:05:58.863661\", \"e...</td>\n",
       "      <td>2024-03-26 22:05:58.863661</td>\n",
       "      <td>9e950ce3-2e12-479c-a051-493c1a497d49</td>\n",
       "      <td>success</td>\n",
       "      <td>2024-03-30 04:19:10.406794</td>\n",
       "      <td>4.0</td>\n",
       "      <td>Microsoft Xbox Series X</td>\n",
       "      <td>499.99</td>\n",
       "      <td>3201.0</td>\n",
       "      <td>2</td>\n",
       "    </tr>\n",
       "    <tr>\n",
       "      <th>1</th>\n",
       "      <td>cda7bec0-7cbf-4145-baf9-e049bab94504</td>\n",
       "      <td>33b485de-7338-4997-b1d0-b988ba17b245</td>\n",
       "      <td>Saint Helena</td>\n",
       "      <td>NGN</td>\n",
       "      <td>14786</td>\n",
       "      <td>{\"timestamp\": \"2024-03-26T22:05:58.863661\", \"e...</td>\n",
       "      <td>2024-03-26 22:05:58.863661</td>\n",
       "      <td>9e950ce3-2e12-479c-a051-493c1a497d49</td>\n",
       "      <td>success</td>\n",
       "      <td>2024-03-30 04:19:10.406794</td>\n",
       "      <td>5.0</td>\n",
       "      <td>Nike Air Max 270</td>\n",
       "      <td>129.99</td>\n",
       "      <td>3202.0</td>\n",
       "      <td>4</td>\n",
       "    </tr>\n",
       "    <tr>\n",
       "      <th>2</th>\n",
       "      <td>cda7bec0-7cbf-4145-baf9-e049bab94504</td>\n",
       "      <td>33b485de-7338-4997-b1d0-b988ba17b245</td>\n",
       "      <td>Saint Helena</td>\n",
       "      <td>NGN</td>\n",
       "      <td>14786</td>\n",
       "      <td>{\"timestamp\": \"2024-03-26T22:05:58.863661\", \"e...</td>\n",
       "      <td>2024-03-26 22:05:58.863661</td>\n",
       "      <td>9e950ce3-2e12-479c-a051-493c1a497d49</td>\n",
       "      <td>success</td>\n",
       "      <td>2024-03-30 04:19:10.406794</td>\n",
       "      <td>6.0</td>\n",
       "      <td>Adidas Ultraboost</td>\n",
       "      <td>180.00</td>\n",
       "      <td>3205.0</td>\n",
       "      <td>2</td>\n",
       "    </tr>\n",
       "    <tr>\n",
       "      <th>3</th>\n",
       "      <td>cda7bec0-7cbf-4145-baf9-e049bab94504</td>\n",
       "      <td>33b485de-7338-4997-b1d0-b988ba17b245</td>\n",
       "      <td>Saint Helena</td>\n",
       "      <td>NGN</td>\n",
       "      <td>14786</td>\n",
       "      <td>{\"timestamp\": \"2024-03-26T22:05:58.863661\", \"e...</td>\n",
       "      <td>2024-03-26 22:05:58.863661</td>\n",
       "      <td>9e950ce3-2e12-479c-a051-493c1a497d49</td>\n",
       "      <td>success</td>\n",
       "      <td>2024-03-30 04:19:10.406794</td>\n",
       "      <td>9.0</td>\n",
       "      <td>Nintendo Switch</td>\n",
       "      <td>299.99</td>\n",
       "      <td>3203.0</td>\n",
       "      <td>5</td>\n",
       "    </tr>\n",
       "    <tr>\n",
       "      <th>4</th>\n",
       "      <td>cda7bec0-7cbf-4145-baf9-e049bab94504</td>\n",
       "      <td>33b485de-7338-4997-b1d0-b988ba17b245</td>\n",
       "      <td>Saint Helena</td>\n",
       "      <td>NGN</td>\n",
       "      <td>14786</td>\n",
       "      <td>{\"timestamp\": \"2024-03-26T22:05:58.863661\", \"e...</td>\n",
       "      <td>2024-03-26 22:05:58.863661</td>\n",
       "      <td>9e950ce3-2e12-479c-a051-493c1a497d49</td>\n",
       "      <td>success</td>\n",
       "      <td>2024-03-30 04:19:10.406794</td>\n",
       "      <td>11.0</td>\n",
       "      <td>Canon EOS R5 Camera</td>\n",
       "      <td>3999.99</td>\n",
       "      <td>3206.0</td>\n",
       "      <td>4</td>\n",
       "    </tr>\n",
       "  </tbody>\n",
       "</table>\n",
       "</div>"
      ],
      "text/plain": [
       "                            customer_id                             device_id  \\\n",
       "0  cda7bec0-7cbf-4145-baf9-e049bab94504  33b485de-7338-4997-b1d0-b988ba17b245   \n",
       "1  cda7bec0-7cbf-4145-baf9-e049bab94504  33b485de-7338-4997-b1d0-b988ba17b245   \n",
       "2  cda7bec0-7cbf-4145-baf9-e049bab94504  33b485de-7338-4997-b1d0-b988ba17b245   \n",
       "3  cda7bec0-7cbf-4145-baf9-e049bab94504  33b485de-7338-4997-b1d0-b988ba17b245   \n",
       "4  cda7bec0-7cbf-4145-baf9-e049bab94504  33b485de-7338-4997-b1d0-b988ba17b245   \n",
       "\n",
       "       location currency event_id  \\\n",
       "0  Saint Helena      NGN    14786   \n",
       "1  Saint Helena      NGN    14786   \n",
       "2  Saint Helena      NGN    14786   \n",
       "3  Saint Helena      NGN    14786   \n",
       "4  Saint Helena      NGN    14786   \n",
       "\n",
       "                                          event_data  \\\n",
       "0  {\"timestamp\": \"2024-03-26T22:05:58.863661\", \"e...   \n",
       "1  {\"timestamp\": \"2024-03-26T22:05:58.863661\", \"e...   \n",
       "2  {\"timestamp\": \"2024-03-26T22:05:58.863661\", \"e...   \n",
       "3  {\"timestamp\": \"2024-03-26T22:05:58.863661\", \"e...   \n",
       "4  {\"timestamp\": \"2024-03-26T22:05:58.863661\", \"e...   \n",
       "\n",
       "             event_timestamp                              order_id   status  \\\n",
       "0 2024-03-26 22:05:58.863661  9e950ce3-2e12-479c-a051-493c1a497d49  success   \n",
       "1 2024-03-26 22:05:58.863661  9e950ce3-2e12-479c-a051-493c1a497d49  success   \n",
       "2 2024-03-26 22:05:58.863661  9e950ce3-2e12-479c-a051-493c1a497d49  success   \n",
       "3 2024-03-26 22:05:58.863661  9e950ce3-2e12-479c-a051-493c1a497d49  success   \n",
       "4 2024-03-26 22:05:58.863661  9e950ce3-2e12-479c-a051-493c1a497d49  success   \n",
       "\n",
       "              checked_out_at item_id             product_name    price  \\\n",
       "0 2024-03-30 04:19:10.406794     4.0  Microsoft Xbox Series X   499.99   \n",
       "1 2024-03-30 04:19:10.406794     5.0         Nike Air Max 270   129.99   \n",
       "2 2024-03-30 04:19:10.406794     6.0        Adidas Ultraboost   180.00   \n",
       "3 2024-03-30 04:19:10.406794     9.0          Nintendo Switch   299.99   \n",
       "4 2024-03-30 04:19:10.406794    11.0      Canon EOS R5 Camera  3999.99   \n",
       "\n",
       "  line_item_id  quantity  \n",
       "0       3201.0         2  \n",
       "1       3202.0         4  \n",
       "2       3205.0         2  \n",
       "3       3203.0         5  \n",
       "4       3206.0         4  "
      ]
     },
     "execution_count": 27,
     "metadata": {},
     "output_type": "execute_result"
    }
   ],
   "source": [
    "final_df.head()"
   ]
  },
  {
   "cell_type": "markdown",
   "id": "12ea026b",
   "metadata": {},
   "source": [
    "### Feature Engineering and Temporal Analysis"
   ]
  },
  {
   "cell_type": "code",
   "execution_count": 28,
   "id": "6036133d",
   "metadata": {},
   "outputs": [
    {
     "data": {
      "text/plain": [
       "'{\"timestamp\": \"2024-03-26T22:05:58.863661\", \"event_type\": \"visit\"}'"
      ]
     },
     "execution_count": 28,
     "metadata": {},
     "output_type": "execute_result"
    }
   ],
   "source": [
    "# Subsetting a row from the \"event data\" column\n",
    "final_df[\"event_data\"].loc[0]"
   ]
  },
  {
   "cell_type": "code",
   "execution_count": 29,
   "id": "4b52bcdb",
   "metadata": {},
   "outputs": [
    {
     "data": {
      "text/html": [
       "<div>\n",
       "<style scoped>\n",
       "    .dataframe tbody tr th:only-of-type {\n",
       "        vertical-align: middle;\n",
       "    }\n",
       "\n",
       "    .dataframe tbody tr th {\n",
       "        vertical-align: top;\n",
       "    }\n",
       "\n",
       "    .dataframe thead th {\n",
       "        text-align: right;\n",
       "    }\n",
       "</style>\n",
       "<table border=\"1\" class=\"dataframe\">\n",
       "  <thead>\n",
       "    <tr style=\"text-align: right;\">\n",
       "      <th></th>\n",
       "      <th>customer_id</th>\n",
       "      <th>device_id</th>\n",
       "      <th>location</th>\n",
       "      <th>currency</th>\n",
       "      <th>event_id</th>\n",
       "      <th>event_data</th>\n",
       "      <th>event_timestamp</th>\n",
       "      <th>order_id</th>\n",
       "      <th>status</th>\n",
       "      <th>checked_out_at</th>\n",
       "      <th>item_id</th>\n",
       "      <th>product_name</th>\n",
       "      <th>price</th>\n",
       "      <th>line_item_id</th>\n",
       "      <th>quantity</th>\n",
       "      <th>event_type</th>\n",
       "    </tr>\n",
       "  </thead>\n",
       "  <tbody>\n",
       "    <tr>\n",
       "      <th>0</th>\n",
       "      <td>cda7bec0-7cbf-4145-baf9-e049bab94504</td>\n",
       "      <td>33b485de-7338-4997-b1d0-b988ba17b245</td>\n",
       "      <td>Saint Helena</td>\n",
       "      <td>NGN</td>\n",
       "      <td>14786</td>\n",
       "      <td>{\"timestamp\": \"2024-03-26T22:05:58.863661\", \"e...</td>\n",
       "      <td>2024-03-26 22:05:58.863661</td>\n",
       "      <td>9e950ce3-2e12-479c-a051-493c1a497d49</td>\n",
       "      <td>success</td>\n",
       "      <td>2024-03-30 04:19:10.406794</td>\n",
       "      <td>4.0</td>\n",
       "      <td>Microsoft Xbox Series X</td>\n",
       "      <td>499.99</td>\n",
       "      <td>3201.0</td>\n",
       "      <td>2</td>\n",
       "      <td>visit</td>\n",
       "    </tr>\n",
       "    <tr>\n",
       "      <th>1</th>\n",
       "      <td>cda7bec0-7cbf-4145-baf9-e049bab94504</td>\n",
       "      <td>33b485de-7338-4997-b1d0-b988ba17b245</td>\n",
       "      <td>Saint Helena</td>\n",
       "      <td>NGN</td>\n",
       "      <td>14786</td>\n",
       "      <td>{\"timestamp\": \"2024-03-26T22:05:58.863661\", \"e...</td>\n",
       "      <td>2024-03-26 22:05:58.863661</td>\n",
       "      <td>9e950ce3-2e12-479c-a051-493c1a497d49</td>\n",
       "      <td>success</td>\n",
       "      <td>2024-03-30 04:19:10.406794</td>\n",
       "      <td>5.0</td>\n",
       "      <td>Nike Air Max 270</td>\n",
       "      <td>129.99</td>\n",
       "      <td>3202.0</td>\n",
       "      <td>4</td>\n",
       "      <td>visit</td>\n",
       "    </tr>\n",
       "    <tr>\n",
       "      <th>2</th>\n",
       "      <td>cda7bec0-7cbf-4145-baf9-e049bab94504</td>\n",
       "      <td>33b485de-7338-4997-b1d0-b988ba17b245</td>\n",
       "      <td>Saint Helena</td>\n",
       "      <td>NGN</td>\n",
       "      <td>14786</td>\n",
       "      <td>{\"timestamp\": \"2024-03-26T22:05:58.863661\", \"e...</td>\n",
       "      <td>2024-03-26 22:05:58.863661</td>\n",
       "      <td>9e950ce3-2e12-479c-a051-493c1a497d49</td>\n",
       "      <td>success</td>\n",
       "      <td>2024-03-30 04:19:10.406794</td>\n",
       "      <td>6.0</td>\n",
       "      <td>Adidas Ultraboost</td>\n",
       "      <td>180.00</td>\n",
       "      <td>3205.0</td>\n",
       "      <td>2</td>\n",
       "      <td>visit</td>\n",
       "    </tr>\n",
       "    <tr>\n",
       "      <th>3</th>\n",
       "      <td>cda7bec0-7cbf-4145-baf9-e049bab94504</td>\n",
       "      <td>33b485de-7338-4997-b1d0-b988ba17b245</td>\n",
       "      <td>Saint Helena</td>\n",
       "      <td>NGN</td>\n",
       "      <td>14786</td>\n",
       "      <td>{\"timestamp\": \"2024-03-26T22:05:58.863661\", \"e...</td>\n",
       "      <td>2024-03-26 22:05:58.863661</td>\n",
       "      <td>9e950ce3-2e12-479c-a051-493c1a497d49</td>\n",
       "      <td>success</td>\n",
       "      <td>2024-03-30 04:19:10.406794</td>\n",
       "      <td>9.0</td>\n",
       "      <td>Nintendo Switch</td>\n",
       "      <td>299.99</td>\n",
       "      <td>3203.0</td>\n",
       "      <td>5</td>\n",
       "      <td>visit</td>\n",
       "    </tr>\n",
       "    <tr>\n",
       "      <th>4</th>\n",
       "      <td>cda7bec0-7cbf-4145-baf9-e049bab94504</td>\n",
       "      <td>33b485de-7338-4997-b1d0-b988ba17b245</td>\n",
       "      <td>Saint Helena</td>\n",
       "      <td>NGN</td>\n",
       "      <td>14786</td>\n",
       "      <td>{\"timestamp\": \"2024-03-26T22:05:58.863661\", \"e...</td>\n",
       "      <td>2024-03-26 22:05:58.863661</td>\n",
       "      <td>9e950ce3-2e12-479c-a051-493c1a497d49</td>\n",
       "      <td>success</td>\n",
       "      <td>2024-03-30 04:19:10.406794</td>\n",
       "      <td>11.0</td>\n",
       "      <td>Canon EOS R5 Camera</td>\n",
       "      <td>3999.99</td>\n",
       "      <td>3206.0</td>\n",
       "      <td>4</td>\n",
       "      <td>visit</td>\n",
       "    </tr>\n",
       "  </tbody>\n",
       "</table>\n",
       "</div>"
      ],
      "text/plain": [
       "                            customer_id                             device_id  \\\n",
       "0  cda7bec0-7cbf-4145-baf9-e049bab94504  33b485de-7338-4997-b1d0-b988ba17b245   \n",
       "1  cda7bec0-7cbf-4145-baf9-e049bab94504  33b485de-7338-4997-b1d0-b988ba17b245   \n",
       "2  cda7bec0-7cbf-4145-baf9-e049bab94504  33b485de-7338-4997-b1d0-b988ba17b245   \n",
       "3  cda7bec0-7cbf-4145-baf9-e049bab94504  33b485de-7338-4997-b1d0-b988ba17b245   \n",
       "4  cda7bec0-7cbf-4145-baf9-e049bab94504  33b485de-7338-4997-b1d0-b988ba17b245   \n",
       "\n",
       "       location currency event_id  \\\n",
       "0  Saint Helena      NGN    14786   \n",
       "1  Saint Helena      NGN    14786   \n",
       "2  Saint Helena      NGN    14786   \n",
       "3  Saint Helena      NGN    14786   \n",
       "4  Saint Helena      NGN    14786   \n",
       "\n",
       "                                          event_data  \\\n",
       "0  {\"timestamp\": \"2024-03-26T22:05:58.863661\", \"e...   \n",
       "1  {\"timestamp\": \"2024-03-26T22:05:58.863661\", \"e...   \n",
       "2  {\"timestamp\": \"2024-03-26T22:05:58.863661\", \"e...   \n",
       "3  {\"timestamp\": \"2024-03-26T22:05:58.863661\", \"e...   \n",
       "4  {\"timestamp\": \"2024-03-26T22:05:58.863661\", \"e...   \n",
       "\n",
       "             event_timestamp                              order_id   status  \\\n",
       "0 2024-03-26 22:05:58.863661  9e950ce3-2e12-479c-a051-493c1a497d49  success   \n",
       "1 2024-03-26 22:05:58.863661  9e950ce3-2e12-479c-a051-493c1a497d49  success   \n",
       "2 2024-03-26 22:05:58.863661  9e950ce3-2e12-479c-a051-493c1a497d49  success   \n",
       "3 2024-03-26 22:05:58.863661  9e950ce3-2e12-479c-a051-493c1a497d49  success   \n",
       "4 2024-03-26 22:05:58.863661  9e950ce3-2e12-479c-a051-493c1a497d49  success   \n",
       "\n",
       "              checked_out_at item_id             product_name    price  \\\n",
       "0 2024-03-30 04:19:10.406794     4.0  Microsoft Xbox Series X   499.99   \n",
       "1 2024-03-30 04:19:10.406794     5.0         Nike Air Max 270   129.99   \n",
       "2 2024-03-30 04:19:10.406794     6.0        Adidas Ultraboost   180.00   \n",
       "3 2024-03-30 04:19:10.406794     9.0          Nintendo Switch   299.99   \n",
       "4 2024-03-30 04:19:10.406794    11.0      Canon EOS R5 Camera  3999.99   \n",
       "\n",
       "  line_item_id  quantity event_type  \n",
       "0       3201.0         2      visit  \n",
       "1       3202.0         4      visit  \n",
       "2       3205.0         2      visit  \n",
       "3       3203.0         5      visit  \n",
       "4       3206.0         4      visit  "
      ]
     },
     "execution_count": 29,
     "metadata": {},
     "output_type": "execute_result"
    }
   ],
   "source": [
    "# Extracting event type from event data column \n",
    "final_df['event_type'] = final_df['event_data'].apply(lambda x: json.loads(x)['event_type'])\n",
    "final_df.head()"
   ]
  },
  {
   "cell_type": "code",
   "execution_count": 30,
   "id": "5d915204",
   "metadata": {},
   "outputs": [
    {
     "data": {
      "text/html": [
       "<div>\n",
       "<style scoped>\n",
       "    .dataframe tbody tr th:only-of-type {\n",
       "        vertical-align: middle;\n",
       "    }\n",
       "\n",
       "    .dataframe tbody tr th {\n",
       "        vertical-align: top;\n",
       "    }\n",
       "\n",
       "    .dataframe thead th {\n",
       "        text-align: right;\n",
       "    }\n",
       "</style>\n",
       "<table border=\"1\" class=\"dataframe\">\n",
       "  <thead>\n",
       "    <tr style=\"text-align: right;\">\n",
       "      <th></th>\n",
       "      <th>customer_id</th>\n",
       "      <th>location</th>\n",
       "      <th>currency</th>\n",
       "      <th>event_timestamp</th>\n",
       "      <th>status</th>\n",
       "      <th>checked_out_at</th>\n",
       "      <th>product_name</th>\n",
       "      <th>price</th>\n",
       "      <th>quantity</th>\n",
       "      <th>event_type</th>\n",
       "    </tr>\n",
       "  </thead>\n",
       "  <tbody>\n",
       "    <tr>\n",
       "      <th>0</th>\n",
       "      <td>cda7bec0-7cbf-4145-baf9-e049bab94504</td>\n",
       "      <td>Saint Helena</td>\n",
       "      <td>NGN</td>\n",
       "      <td>2024-03-26 22:05:58.863661</td>\n",
       "      <td>success</td>\n",
       "      <td>2024-03-30 04:19:10.406794</td>\n",
       "      <td>Microsoft Xbox Series X</td>\n",
       "      <td>499.99</td>\n",
       "      <td>2</td>\n",
       "      <td>visit</td>\n",
       "    </tr>\n",
       "    <tr>\n",
       "      <th>1</th>\n",
       "      <td>cda7bec0-7cbf-4145-baf9-e049bab94504</td>\n",
       "      <td>Saint Helena</td>\n",
       "      <td>NGN</td>\n",
       "      <td>2024-03-26 22:05:58.863661</td>\n",
       "      <td>success</td>\n",
       "      <td>2024-03-30 04:19:10.406794</td>\n",
       "      <td>Nike Air Max 270</td>\n",
       "      <td>129.99</td>\n",
       "      <td>4</td>\n",
       "      <td>visit</td>\n",
       "    </tr>\n",
       "    <tr>\n",
       "      <th>2</th>\n",
       "      <td>cda7bec0-7cbf-4145-baf9-e049bab94504</td>\n",
       "      <td>Saint Helena</td>\n",
       "      <td>NGN</td>\n",
       "      <td>2024-03-26 22:05:58.863661</td>\n",
       "      <td>success</td>\n",
       "      <td>2024-03-30 04:19:10.406794</td>\n",
       "      <td>Adidas Ultraboost</td>\n",
       "      <td>180.00</td>\n",
       "      <td>2</td>\n",
       "      <td>visit</td>\n",
       "    </tr>\n",
       "    <tr>\n",
       "      <th>3</th>\n",
       "      <td>cda7bec0-7cbf-4145-baf9-e049bab94504</td>\n",
       "      <td>Saint Helena</td>\n",
       "      <td>NGN</td>\n",
       "      <td>2024-03-26 22:05:58.863661</td>\n",
       "      <td>success</td>\n",
       "      <td>2024-03-30 04:19:10.406794</td>\n",
       "      <td>Nintendo Switch</td>\n",
       "      <td>299.99</td>\n",
       "      <td>5</td>\n",
       "      <td>visit</td>\n",
       "    </tr>\n",
       "    <tr>\n",
       "      <th>4</th>\n",
       "      <td>cda7bec0-7cbf-4145-baf9-e049bab94504</td>\n",
       "      <td>Saint Helena</td>\n",
       "      <td>NGN</td>\n",
       "      <td>2024-03-26 22:05:58.863661</td>\n",
       "      <td>success</td>\n",
       "      <td>2024-03-30 04:19:10.406794</td>\n",
       "      <td>Canon EOS R5 Camera</td>\n",
       "      <td>3999.99</td>\n",
       "      <td>4</td>\n",
       "      <td>visit</td>\n",
       "    </tr>\n",
       "  </tbody>\n",
       "</table>\n",
       "</div>"
      ],
      "text/plain": [
       "                            customer_id      location currency  \\\n",
       "0  cda7bec0-7cbf-4145-baf9-e049bab94504  Saint Helena      NGN   \n",
       "1  cda7bec0-7cbf-4145-baf9-e049bab94504  Saint Helena      NGN   \n",
       "2  cda7bec0-7cbf-4145-baf9-e049bab94504  Saint Helena      NGN   \n",
       "3  cda7bec0-7cbf-4145-baf9-e049bab94504  Saint Helena      NGN   \n",
       "4  cda7bec0-7cbf-4145-baf9-e049bab94504  Saint Helena      NGN   \n",
       "\n",
       "             event_timestamp   status             checked_out_at  \\\n",
       "0 2024-03-26 22:05:58.863661  success 2024-03-30 04:19:10.406794   \n",
       "1 2024-03-26 22:05:58.863661  success 2024-03-30 04:19:10.406794   \n",
       "2 2024-03-26 22:05:58.863661  success 2024-03-30 04:19:10.406794   \n",
       "3 2024-03-26 22:05:58.863661  success 2024-03-30 04:19:10.406794   \n",
       "4 2024-03-26 22:05:58.863661  success 2024-03-30 04:19:10.406794   \n",
       "\n",
       "              product_name    price  quantity event_type  \n",
       "0  Microsoft Xbox Series X   499.99         2      visit  \n",
       "1         Nike Air Max 270   129.99         4      visit  \n",
       "2        Adidas Ultraboost   180.00         2      visit  \n",
       "3          Nintendo Switch   299.99         5      visit  \n",
       "4      Canon EOS R5 Camera  3999.99         4      visit  "
      ]
     },
     "execution_count": 30,
     "metadata": {},
     "output_type": "execute_result"
    }
   ],
   "source": [
    "# Drop redundant columns\n",
    "# These columns sort of represent similar things and we also have columns that can be used to retrieve information they will give\n",
    "final_df1 = final_df.drop(columns=[\"device_id\", \"event_id\", \"event_data\", \"order_id\", \"item_id\", \"line_item_id\"])\n",
    "final_df1.head()"
   ]
  },
  {
   "cell_type": "code",
   "execution_count": 31,
   "id": "5cefe349",
   "metadata": {},
   "outputs": [],
   "source": [
    "# Function to extract day of week and hour of the day\n",
    "def extract_date_time(dataset, date):\n",
    "    date_extract = pd.to_datetime(dataset[date], format=\"%Y-%m-%d %I:%M:%S\")\n",
    "   \n",
    "    dataset[\"Day\"] = date_extract.dt.day_name()\n",
    "    dataset[\"Hour\"] = date_extract.dt.hour\n",
    "    return dataset[\"Day\"], dataset[\"Hour\"]"
   ]
  },
  {
   "cell_type": "markdown",
   "id": "fbb61507",
   "metadata": {},
   "source": [
    "NOTE: We did not extract month and year because this dataset spans only March of 2024"
   ]
  },
  {
   "cell_type": "code",
   "execution_count": 32,
   "id": "8627ba46",
   "metadata": {},
   "outputs": [
    {
     "data": {
      "text/plain": [
       "(0          Tuesday\n",
       " 1          Tuesday\n",
       " 2          Tuesday\n",
       " 3          Tuesday\n",
       " 4          Tuesday\n",
       "             ...   \n",
       " 578315    Saturday\n",
       " 578316    Saturday\n",
       " 578317    Saturday\n",
       " 578318    Saturday\n",
       " 578319    Saturday\n",
       " Name: Day, Length: 578320, dtype: object,\n",
       " 0         22\n",
       " 1         22\n",
       " 2         22\n",
       " 3         22\n",
       " 4         22\n",
       "           ..\n",
       " 578315     4\n",
       " 578316     4\n",
       " 578317     4\n",
       " 578318     4\n",
       " 578319     4\n",
       " Name: Hour, Length: 578320, dtype: int32)"
      ]
     },
     "execution_count": 32,
     "metadata": {},
     "output_type": "execute_result"
    }
   ],
   "source": [
    "# Loading our extract function \n",
    "extract_date_time(final_df1, \"event_timestamp\")"
   ]
  },
  {
   "cell_type": "code",
   "execution_count": 33,
   "id": "9f25097d",
   "metadata": {},
   "outputs": [
    {
     "data": {
      "text/html": [
       "<div>\n",
       "<style scoped>\n",
       "    .dataframe tbody tr th:only-of-type {\n",
       "        vertical-align: middle;\n",
       "    }\n",
       "\n",
       "    .dataframe tbody tr th {\n",
       "        vertical-align: top;\n",
       "    }\n",
       "\n",
       "    .dataframe thead th {\n",
       "        text-align: right;\n",
       "    }\n",
       "</style>\n",
       "<table border=\"1\" class=\"dataframe\">\n",
       "  <thead>\n",
       "    <tr style=\"text-align: right;\">\n",
       "      <th></th>\n",
       "      <th>customer_id</th>\n",
       "      <th>location</th>\n",
       "      <th>currency</th>\n",
       "      <th>event_timestamp</th>\n",
       "      <th>status</th>\n",
       "      <th>checked_out_at</th>\n",
       "      <th>product_name</th>\n",
       "      <th>price</th>\n",
       "      <th>quantity</th>\n",
       "      <th>event_type</th>\n",
       "      <th>Day</th>\n",
       "      <th>Hour</th>\n",
       "    </tr>\n",
       "  </thead>\n",
       "  <tbody>\n",
       "    <tr>\n",
       "      <th>0</th>\n",
       "      <td>cda7bec0-7cbf-4145-baf9-e049bab94504</td>\n",
       "      <td>Saint Helena</td>\n",
       "      <td>NGN</td>\n",
       "      <td>2024-03-26 22:05:58.863661</td>\n",
       "      <td>success</td>\n",
       "      <td>2024-03-30 04:19:10.406794</td>\n",
       "      <td>Microsoft Xbox Series X</td>\n",
       "      <td>499.99</td>\n",
       "      <td>2</td>\n",
       "      <td>visit</td>\n",
       "      <td>Tuesday</td>\n",
       "      <td>22</td>\n",
       "    </tr>\n",
       "    <tr>\n",
       "      <th>1</th>\n",
       "      <td>cda7bec0-7cbf-4145-baf9-e049bab94504</td>\n",
       "      <td>Saint Helena</td>\n",
       "      <td>NGN</td>\n",
       "      <td>2024-03-26 22:05:58.863661</td>\n",
       "      <td>success</td>\n",
       "      <td>2024-03-30 04:19:10.406794</td>\n",
       "      <td>Nike Air Max 270</td>\n",
       "      <td>129.99</td>\n",
       "      <td>4</td>\n",
       "      <td>visit</td>\n",
       "      <td>Tuesday</td>\n",
       "      <td>22</td>\n",
       "    </tr>\n",
       "    <tr>\n",
       "      <th>2</th>\n",
       "      <td>cda7bec0-7cbf-4145-baf9-e049bab94504</td>\n",
       "      <td>Saint Helena</td>\n",
       "      <td>NGN</td>\n",
       "      <td>2024-03-26 22:05:58.863661</td>\n",
       "      <td>success</td>\n",
       "      <td>2024-03-30 04:19:10.406794</td>\n",
       "      <td>Adidas Ultraboost</td>\n",
       "      <td>180.00</td>\n",
       "      <td>2</td>\n",
       "      <td>visit</td>\n",
       "      <td>Tuesday</td>\n",
       "      <td>22</td>\n",
       "    </tr>\n",
       "    <tr>\n",
       "      <th>3</th>\n",
       "      <td>cda7bec0-7cbf-4145-baf9-e049bab94504</td>\n",
       "      <td>Saint Helena</td>\n",
       "      <td>NGN</td>\n",
       "      <td>2024-03-26 22:05:58.863661</td>\n",
       "      <td>success</td>\n",
       "      <td>2024-03-30 04:19:10.406794</td>\n",
       "      <td>Nintendo Switch</td>\n",
       "      <td>299.99</td>\n",
       "      <td>5</td>\n",
       "      <td>visit</td>\n",
       "      <td>Tuesday</td>\n",
       "      <td>22</td>\n",
       "    </tr>\n",
       "    <tr>\n",
       "      <th>4</th>\n",
       "      <td>cda7bec0-7cbf-4145-baf9-e049bab94504</td>\n",
       "      <td>Saint Helena</td>\n",
       "      <td>NGN</td>\n",
       "      <td>2024-03-26 22:05:58.863661</td>\n",
       "      <td>success</td>\n",
       "      <td>2024-03-30 04:19:10.406794</td>\n",
       "      <td>Canon EOS R5 Camera</td>\n",
       "      <td>3999.99</td>\n",
       "      <td>4</td>\n",
       "      <td>visit</td>\n",
       "      <td>Tuesday</td>\n",
       "      <td>22</td>\n",
       "    </tr>\n",
       "  </tbody>\n",
       "</table>\n",
       "</div>"
      ],
      "text/plain": [
       "                            customer_id      location currency  \\\n",
       "0  cda7bec0-7cbf-4145-baf9-e049bab94504  Saint Helena      NGN   \n",
       "1  cda7bec0-7cbf-4145-baf9-e049bab94504  Saint Helena      NGN   \n",
       "2  cda7bec0-7cbf-4145-baf9-e049bab94504  Saint Helena      NGN   \n",
       "3  cda7bec0-7cbf-4145-baf9-e049bab94504  Saint Helena      NGN   \n",
       "4  cda7bec0-7cbf-4145-baf9-e049bab94504  Saint Helena      NGN   \n",
       "\n",
       "             event_timestamp   status             checked_out_at  \\\n",
       "0 2024-03-26 22:05:58.863661  success 2024-03-30 04:19:10.406794   \n",
       "1 2024-03-26 22:05:58.863661  success 2024-03-30 04:19:10.406794   \n",
       "2 2024-03-26 22:05:58.863661  success 2024-03-30 04:19:10.406794   \n",
       "3 2024-03-26 22:05:58.863661  success 2024-03-30 04:19:10.406794   \n",
       "4 2024-03-26 22:05:58.863661  success 2024-03-30 04:19:10.406794   \n",
       "\n",
       "              product_name    price  quantity event_type      Day  Hour  \n",
       "0  Microsoft Xbox Series X   499.99         2      visit  Tuesday    22  \n",
       "1         Nike Air Max 270   129.99         4      visit  Tuesday    22  \n",
       "2        Adidas Ultraboost   180.00         2      visit  Tuesday    22  \n",
       "3          Nintendo Switch   299.99         5      visit  Tuesday    22  \n",
       "4      Canon EOS R5 Camera  3999.99         4      visit  Tuesday    22  "
      ]
     },
     "execution_count": 33,
     "metadata": {},
     "output_type": "execute_result"
    }
   ],
   "source": [
    "final_df1.head()"
   ]
  },
  {
   "cell_type": "markdown",
   "id": "a51873aa",
   "metadata": {},
   "source": [
    "### Feature Understanding and Relationship"
   ]
  },
  {
   "cell_type": "markdown",
   "id": "8cb53de5",
   "metadata": {},
   "source": [
    "Understanding the relationships, trends and patterns in our dataset help us to improve product recommendations by highlighting popular products and  also create targeted promotion"
   ]
  },
  {
   "cell_type": "code",
   "execution_count": 34,
   "id": "14d4457a",
   "metadata": {},
   "outputs": [
    {
     "data": {
      "text/plain": [
       "4594"
      ]
     },
     "execution_count": 34,
     "metadata": {},
     "output_type": "execute_result"
    }
   ],
   "source": [
    "# Number of unique customers that visited the website for the time period (March 2024)\n",
    "unique_customers = final_df1[\"customer_id\"].nunique()\n",
    "unique_customers"
   ]
  },
  {
   "cell_type": "markdown",
   "id": "02cd7c0e",
   "metadata": {},
   "source": [
    "The number of unique customers that visited the website for this time period (March, 2024) are 4594 "
   ]
  },
  {
   "cell_type": "code",
   "execution_count": 35,
   "id": "42af6bce",
   "metadata": {},
   "outputs": [
    {
     "data": {
      "text/plain": [
       "product_name\n",
       "Canon EOS R5 Camera            39715\n",
       "Fitbit Charge 4                39268\n",
       "Sony WH-1000XM4 Headphones     39162\n",
       "Dell XPS 13 Laptop             39084\n",
       "Samsung Galaxy S21             38997\n",
       "iPhone 13                      38866\n",
       "Microsoft Xbox Series X        38842\n",
       "Adidas Ultraboost              38835\n",
       "Nike Air Max 270               38782\n",
       "Coca-Cola 12-Pack              38440\n",
       "Apple AirPods Pro              38291\n",
       "Samsung 55-Inch 4K Smart TV    38043\n",
       "Starbucks Coffee Beans         37515\n",
       "Sony PlayStation 5             37501\n",
       "Nintendo Switch                36979\n",
       "dtype: int64"
      ]
     },
     "execution_count": 35,
     "metadata": {},
     "output_type": "execute_result"
    }
   ],
   "source": [
    "# Disrtibution of how products were purchased according to their frequency\n",
    "final_df1.groupby(\"product_name\").size().sort_values(ascending = False)"
   ]
  },
  {
   "cell_type": "markdown",
   "id": "14b048f7",
   "metadata": {},
   "source": [
    "This shows that \"Canon E0S R5 Camera\" was the most purchased product and \"Nintendo Switch\" was the least purchased product"
   ]
  },
  {
   "cell_type": "code",
   "execution_count": 36,
   "id": "2ff0b4e0",
   "metadata": {},
   "outputs": [
    {
     "data": {
      "text/plain": [
       "event_type\n",
       "add_to_cart         269335\n",
       "visit               143154\n",
       "remove_from_cart    134090\n",
       "checkout             31741\n",
       "dtype: int64"
      ]
     },
     "execution_count": 36,
     "metadata": {},
     "output_type": "execute_result"
    }
   ],
   "source": [
    "# Understanding activities that took place on the website based on \"event type\"\n",
    "final_df1.groupby(\"event_type\").size().sort_values(ascending = False)"
   ]
  },
  {
   "cell_type": "markdown",
   "id": "0f88c5a8",
   "metadata": {},
   "source": [
    "This shows that products was added to cart 269,335 times, visits only was 143154 times, number of times products was removed from cart is 134,090 and number of times checkout was done is 31,741."
   ]
  },
  {
   "cell_type": "code",
   "execution_count": 37,
   "id": "cea5e5d1",
   "metadata": {},
   "outputs": [
    {
     "data": {
      "text/plain": [
       "status\n",
       "failed       196383\n",
       "success      192594\n",
       "cancelled    189343\n",
       "dtype: int64"
      ]
     },
     "execution_count": 37,
     "metadata": {},
     "output_type": "execute_result"
    }
   ],
   "source": [
    "# Checking the \"status\" for website activities\n",
    "final_df1.groupby(\"status\").size().sort_values(ascending = False)"
   ]
  },
  {
   "cell_type": "markdown",
   "id": "0a4c9a0a",
   "metadata": {},
   "source": [
    "This implies that 192,594 website activities were successful, 189,343 activities were cancelled and 196,383 activities failed"
   ]
  },
  {
   "cell_type": "code",
   "execution_count": 38,
   "id": "6418a55a",
   "metadata": {},
   "outputs": [
    {
     "name": "stdout",
     "output_type": "stream",
     "text": [
      "event_type\n",
      "add_to_cart         90055\n",
      "visit               47714\n",
      "remove_from_cart    44152\n",
      "checkout            10673\n",
      "dtype: int64\n"
     ]
    }
   ],
   "source": [
    "# Event type that were successful \n",
    "success_events = final_df1[final_df1['status'] == 'success'].groupby('event_type').size().sort_values(ascending = False)\n",
    "print(success_events)\n"
   ]
  },
  {
   "cell_type": "markdown",
   "id": "df53a9c4",
   "metadata": {},
   "source": [
    "This shows that 90,055 products were successfully added to cart, 47,714 visits were successful, 44,152 products were successfully removed from cart is and 10,673 checkout were successful"
   ]
  },
  {
   "cell_type": "code",
   "execution_count": 39,
   "id": "20ef6f8e",
   "metadata": {},
   "outputs": [
    {
     "data": {
      "text/plain": [
       "location\n",
       "Korea        6997\n",
       "Argentina    4507\n",
       "Mauritius    4414\n",
       "Jersey       4130\n",
       "Panama       3936\n",
       "             ... \n",
       "Chad         1082\n",
       "Malaysia     1037\n",
       "Austria       921\n",
       "Italy         783\n",
       "Uruguay       734\n",
       "Length: 243, dtype: int64"
      ]
     },
     "execution_count": 39,
     "metadata": {},
     "output_type": "execute_result"
    }
   ],
   "source": [
    "# Activities on the website based on location\n",
    "final_df1.groupby(\"location\").size().sort_values(ascending = False)"
   ]
  },
  {
   "cell_type": "markdown",
   "id": "8b87bfe3",
   "metadata": {},
   "source": [
    "This shows that most activities on the website came from Korea and least activities were done from Uruguay"
   ]
  },
  {
   "cell_type": "code",
   "execution_count": 40,
   "id": "ec0ef997",
   "metadata": {},
   "outputs": [
    {
     "data": {
      "text/plain": [
       "Day\n",
       "Saturday     534760\n",
       "Wednesday     10098\n",
       "Thursday       9585\n",
       "Tuesday        8388\n",
       "Friday         5689\n",
       "Monday         5021\n",
       "Sunday         4779\n",
       "Name: event_type, dtype: int64"
      ]
     },
     "execution_count": 40,
     "metadata": {},
     "output_type": "execute_result"
    }
   ],
   "source": [
    "# Activities on the website based on day of the week\n",
    "final_df1.groupby(\"Day\")[\"event_type\"].size().sort_values(ascending = False)"
   ]
  },
  {
   "cell_type": "markdown",
   "id": "099ae212",
   "metadata": {},
   "source": [
    "This shows that majority of activities on the website were done on Saturday and lowest number of activities were done on Sunday"
   ]
  },
  {
   "cell_type": "code",
   "execution_count": 41,
   "id": "b7f404b7",
   "metadata": {},
   "outputs": [
    {
     "data": {
      "text/plain": [
       "1548"
      ]
     },
     "execution_count": 41,
     "metadata": {},
     "output_type": "execute_result"
    }
   ],
   "source": [
    "# Number of cutomers whose activities on the website were successful\n",
    "completed_orders = final_df1[final_df1['status'] == 'success']['customer_id'].nunique()\n",
    "completed_orders"
   ]
  },
  {
   "cell_type": "markdown",
   "id": "1ab205cd",
   "metadata": {},
   "source": [
    "this reveals that of the 4594 customers that visited the website, only 1548 of them were able to execute their activities successfully"
   ]
  },
  {
   "cell_type": "code",
   "execution_count": 42,
   "id": "f1d6bc11",
   "metadata": {},
   "outputs": [
    {
     "data": {
      "text/plain": [
       "product_name\n",
       "Canon EOS R5 Camera            2174\n",
       "Fitbit Charge 4                2172\n",
       "Sony WH-1000XM4 Headphones     2150\n",
       "iPhone 13                      2142\n",
       "Adidas Ultraboost              2138\n",
       "Microsoft Xbox Series X        2134\n",
       "Dell XPS 13 Laptop             2134\n",
       "Nike Air Max 270               2126\n",
       "Samsung Galaxy S21             2123\n",
       "Apple AirPods Pro              2116\n",
       "Coca-Cola 12-Pack              2113\n",
       "Samsung 55-Inch 4K Smart TV    2081\n",
       "Sony PlayStation 5             2064\n",
       "Starbucks Coffee Beans         2053\n",
       "Nintendo Switch                2021\n",
       "Name: count, dtype: int64"
      ]
     },
     "execution_count": 42,
     "metadata": {},
     "output_type": "execute_result"
    }
   ],
   "source": [
    "# Distribution of products according to how they were checked out (purchase made)\n",
    "final_df1[final_df1['event_type'] == 'checkout']['product_name'].value_counts()"
   ]
  },
  {
   "cell_type": "markdown",
   "id": "4453bc1f",
   "metadata": {},
   "source": [
    "This shows that \"Canon E0S R5 Camera\" was the most checked out product and \"Nintendo Switch\" was the least checked out product"
   ]
  },
  {
   "cell_type": "code",
   "execution_count": 43,
   "id": "ada6d1ad",
   "metadata": {},
   "outputs": [
    {
     "data": {
      "text/plain": [
       "location   event_type \n",
       "Korea      add_to_cart    3179\n",
       "Argentina  add_to_cart    2096\n",
       "Mauritius  add_to_cart    2086\n",
       "Jersey     add_to_cart    2019\n",
       "Albania    add_to_cart    1929\n",
       "                          ... \n",
       "Taiwan     checkout         66\n",
       "Honduras   checkout         65\n",
       "Italy      checkout         62\n",
       "Austria    checkout         55\n",
       "Uruguay    checkout         48\n",
       "Length: 972, dtype: int64"
      ]
     },
     "execution_count": 43,
     "metadata": {},
     "output_type": "execute_result"
    }
   ],
   "source": [
    "# Event activities distribution according to location \n",
    "final_df1.groupby([\"location\",\"event_type\"]).size().sort_values(ascending= False)"
   ]
  },
  {
   "cell_type": "code",
   "execution_count": 44,
   "id": "4514b9e5",
   "metadata": {},
   "outputs": [],
   "source": [
    "# Function to show how event type vary by location, day of week and type/name of product\n",
    "\n",
    "def event_type_by_location(df, eventtype):\n",
    "    filtered_df = df[df[\"event_type\"] == eventtype]\n",
    "    event_by_location = filtered_df.groupby([\"event_type\", \"location\"]).size().sort_values(ascending= False)\n",
    "    return event_by_location\n",
    "\n",
    "def event_type_by_day(df, eventtype):\n",
    "    filtered_df = df[df[\"event_type\"] == eventtype]\n",
    "    event_by_day = filtered_df.groupby([\"event_type\", \"Day\"]).size().sort_values(ascending= False)\n",
    "    return event_by_day\n",
    "\n",
    "def event_type_by_product(df, eventtype):\n",
    "    filtered_df = df[df[\"event_type\"] == eventtype]\n",
    "    event_by_product = filtered_df.groupby([\"event_type\", \"product_name\"]).size().sort_values(ascending= False)\n",
    "    return event_by_product"
   ]
  },
  {
   "cell_type": "code",
   "execution_count": 45,
   "id": "eea8fc29",
   "metadata": {},
   "outputs": [
    {
     "data": {
      "text/plain": [
       "event_type   location \n",
       "add_to_cart  Korea        3179\n",
       "             Argentina    2096\n",
       "             Mauritius    2086\n",
       "             Jersey       2019\n",
       "             Albania      1929\n",
       "                          ... \n",
       "             Taiwan        520\n",
       "             Malaysia      431\n",
       "             Austria       359\n",
       "             Italy         336\n",
       "             Uruguay       324\n",
       "Length: 243, dtype: int64"
      ]
     },
     "execution_count": 45,
     "metadata": {},
     "output_type": "execute_result"
    }
   ],
   "source": [
    "#  Location of website activities based on event type (add to cart), function can be adjusted based on the event you want to view\n",
    "event_type_by_location(final_df1, \"add_to_cart\")"
   ]
  },
  {
   "cell_type": "code",
   "execution_count": 46,
   "id": "aea32324",
   "metadata": {},
   "outputs": [
    {
     "name": "stdout",
     "output_type": "stream",
     "text": [
      "\n",
      "Purchasing behavior by location:\n"
     ]
    },
    {
     "data": {
      "text/plain": [
       "event_type  location \n",
       "checkout    Korea        347\n",
       "            Argentina    236\n",
       "            Mauritius    236\n",
       "            Jersey       223\n",
       "            Albania      215\n",
       "                        ... \n",
       "            Taiwan        66\n",
       "            Honduras      65\n",
       "            Italy         62\n",
       "            Austria       55\n",
       "            Uruguay       48\n",
       "Length: 243, dtype: int64"
      ]
     },
     "execution_count": 46,
     "metadata": {},
     "output_type": "execute_result"
    }
   ],
   "source": [
    "# Purchasing behavior based on location\n",
    "print(\"\\nPurchasing behavior by location:\")\n",
    "\n",
    "event_type_by_location(final_df1, \"checkout\")"
   ]
  },
  {
   "cell_type": "code",
   "execution_count": 47,
   "id": "c7dae297",
   "metadata": {},
   "outputs": [
    {
     "data": {
      "text/plain": [
       "event_type  product_name               \n",
       "checkout    Canon EOS R5 Camera            2174\n",
       "            Fitbit Charge 4                2172\n",
       "            Sony WH-1000XM4 Headphones     2150\n",
       "            iPhone 13                      2142\n",
       "            Adidas Ultraboost              2138\n",
       "            Dell XPS 13 Laptop             2134\n",
       "            Microsoft Xbox Series X        2134\n",
       "            Nike Air Max 270               2126\n",
       "            Samsung Galaxy S21             2123\n",
       "            Apple AirPods Pro              2116\n",
       "            Coca-Cola 12-Pack              2113\n",
       "            Samsung 55-Inch 4K Smart TV    2081\n",
       "            Sony PlayStation 5             2064\n",
       "            Starbucks Coffee Beans         2053\n",
       "            Nintendo Switch                2021\n",
       "dtype: int64"
      ]
     },
     "execution_count": 47,
     "metadata": {},
     "output_type": "execute_result"
    }
   ],
   "source": [
    "# Product distribution based on event type (checkout),function can be adjusted based on the event you want to view\n",
    "event_type_by_product(final_df1, \"checkout\")"
   ]
  },
  {
   "cell_type": "code",
   "execution_count": 48,
   "id": "2729bff8",
   "metadata": {},
   "outputs": [
    {
     "data": {
      "text/plain": [
       "event_type   Day     \n",
       "add_to_cart  Saturday    269335\n",
       "dtype: int64"
      ]
     },
     "execution_count": 48,
     "metadata": {},
     "output_type": "execute_result"
    }
   ],
   "source": [
    "# Event type (add to cart) distribution according to day of the week,function can be adjusted based on the event you want to view\n",
    "event_type_by_day(final_df1, \"add_to_cart\")"
   ]
  },
  {
   "cell_type": "markdown",
   "id": "cd3112fd",
   "metadata": {},
   "source": [
    "This reveals that product were added to cart only on Saturday"
   ]
  },
  {
   "cell_type": "code",
   "execution_count": 49,
   "id": "f8d40d35",
   "metadata": {},
   "outputs": [
    {
     "data": {
      "text/plain": [
       "event_type  Day      \n",
       "visit       Saturday     99594\n",
       "            Wednesday    10098\n",
       "            Thursday      9585\n",
       "            Tuesday       8388\n",
       "            Friday        5689\n",
       "            Monday        5021\n",
       "            Sunday        4779\n",
       "dtype: int64"
      ]
     },
     "execution_count": 49,
     "metadata": {},
     "output_type": "execute_result"
    }
   ],
   "source": [
    "# Event type (visit) distribution according to day of the week,function can be adjusted based on the event you want to view\n",
    "event_type_by_day(final_df1, \"visit\")"
   ]
  },
  {
   "cell_type": "markdown",
   "id": "f1c54239",
   "metadata": {},
   "source": [
    "This reveals that more people visited the website on Saturday while Sunday has the least visits"
   ]
  },
  {
   "cell_type": "code",
   "execution_count": 50,
   "id": "58340838",
   "metadata": {},
   "outputs": [
    {
     "data": {
      "text/plain": [
       "0.7943698990178448"
      ]
     },
     "execution_count": 50,
     "metadata": {},
     "output_type": "execute_result"
    }
   ],
   "source": [
    "# Conversion Rate from event to order\n",
    "total_events = len(final_df1)\n",
    "total_orders = final_df1[final_df1['event_type'] == 'checkout']['customer_id'].nunique()\n",
    "conversion_rate = (total_orders / total_events) * 100\n",
    "conversion_rate"
   ]
  },
  {
   "cell_type": "markdown",
   "id": "ac91780c",
   "metadata": {},
   "source": [
    "This shows that there is a 0.79% conversion rate on this website. It implies that out of every 100 events that occurred, approximately 0.79 of them resulted in a successful conversion."
   ]
  },
  {
   "cell_type": "code",
   "execution_count": 51,
   "id": "9666af72",
   "metadata": {},
   "outputs": [
    {
     "name": "stdout",
     "output_type": "stream",
     "text": [
      "Average visit frequency: 31.161079669133652\n"
     ]
    }
   ],
   "source": [
    "# Frequency of customers that just visited the company's website\n",
    "visit_frequency = final_df1[final_df1['event_type'] == 'visit'].groupby('customer_id')['event_type'].count()\n",
    "average_visit_frequency = visit_frequency.mean()\n",
    "\n",
    "print(\"Average visit frequency:\", average_visit_frequency)"
   ]
  },
  {
   "cell_type": "markdown",
   "id": "b62c03ad",
   "metadata": {},
   "source": [
    "This shows that the frequency with which customers just visited the website is about 32%"
   ]
  },
  {
   "cell_type": "code",
   "execution_count": 52,
   "id": "76ba7f11",
   "metadata": {},
   "outputs": [
    {
     "data": {
      "text/plain": [
       "Timedelta('0 days 12:02:18.002695347')"
      ]
     },
     "execution_count": 52,
     "metadata": {},
     "output_type": "execute_result"
    }
   ],
   "source": [
    "# Time taken for checkout after adding items to cart\n",
    "time_diff = final_df1['checked_out_at'] - final_df1['event_timestamp']\n",
    "average_checkout_time = time_diff.mean()\n",
    "average_checkout_time"
   ]
  },
  {
   "cell_type": "markdown",
   "id": "a631c4a8",
   "metadata": {},
   "source": [
    "This shows that the average time it takes to complete all the different activities on the website is 12 hours, 2 minutes and 18 seconds. It might also be the average time it takes for customers to check out after adding items to their cart."
   ]
  },
  {
   "cell_type": "code",
   "execution_count": 53,
   "id": "9ac60730",
   "metadata": {},
   "outputs": [
    {
     "name": "stdout",
     "output_type": "stream",
     "text": [
      "\n",
      " Number of frequent buyers: 4374\n",
      "\n",
      " Number of one-time buyers: 220\n",
      "\n",
      "Average number of purchases for new customers: 1.0\n",
      "\n",
      "Average number of purchases for returning customers: 7.20644718792867\n"
     ]
    }
   ],
   "source": [
    "# Customer segmentation based on behavior\n",
    "# Segmenting customers into frequent buyers and one-time buyers\n",
    "customer_purchase_counts = final_df1[final_df1['event_type'] == 'checkout']['customer_id'].value_counts()\n",
    "frequent_buyers = customer_purchase_counts[customer_purchase_counts > 1].index\n",
    "one_time_buyers = customer_purchase_counts[customer_purchase_counts == 1].index\n",
    "\n",
    "# Behavior difference between new and returning customers\n",
    "# Calculate average number of purchases for new and returning customers\n",
    "new_customers = final_df1[final_df1['customer_id'].isin(one_time_buyers)]\n",
    "returning_customers = final_df1[final_df1['customer_id'].isin(frequent_buyers)]\n",
    "average_purchases_new_customers = new_customers[new_customers['event_type'] == 'checkout'].groupby('customer_id').size().mean()\n",
    "average_purchases_returning_customers = returning_customers[returning_customers['event_type'] == 'checkout'].groupby('customer_id').size().mean()\n",
    "\n",
    "print(\"\\n Number of frequent buyers:\", len(frequent_buyers))\n",
    "print(\"\\n Number of one-time buyers:\", len(one_time_buyers))\n",
    "print(\"\\nAverage number of purchases for new customers:\", average_purchases_new_customers)\n",
    "print(\"\\nAverage number of purchases for returning customers:\", average_purchases_returning_customers)\n"
   ]
  },
  {
   "cell_type": "code",
   "execution_count": 54,
   "id": "f6bbb545",
   "metadata": {},
   "outputs": [
    {
     "name": "stdout",
     "output_type": "stream",
     "text": [
      "\n",
      "Correlation between event activity and completion time:\n",
      "event_type\n",
      "add_to_cart        0 days 00:10:07.473753664\n",
      "checkout                     0 days 00:00:00\n",
      "remove_from_cart   0 days 00:10:09.014553930\n",
      "visit              2 days 00:09:25.445700390\n",
      "Name: completion_time, dtype: timedelta64[ns]\n"
     ]
    }
   ],
   "source": [
    "# Calculate completion time for each event\n",
    "final_df1['completion_time'] = final_df1['checked_out_at'] - final_df1['event_timestamp']\n",
    "\n",
    "# Calculate average completion time for each event type\n",
    "event_completion_time_correlation = final_df1.groupby('event_type')['completion_time'].mean()\n",
    "\n",
    "print(\"\\nCorrelation between event activity and completion time:\")\n",
    "print(event_completion_time_correlation)"
   ]
  },
  {
   "cell_type": "code",
   "execution_count": 55,
   "id": "703e8461",
   "metadata": {},
   "outputs": [
    {
     "data": {
      "text/plain": [
       "location     product_name              \n",
       "Zimbabwe     iPhone 13                     141\n",
       "             Starbucks Coffee Beans        116\n",
       "             Sony WH-1000XM4 Headphones    126\n",
       "             Sony PlayStation 5            112\n",
       "             Samsung Galaxy S21             66\n",
       "                                          ... \n",
       "Afghanistan  Dell XPS 13 Laptop            167\n",
       "             Coca-Cola 12-Pack             117\n",
       "             Canon EOS R5 Camera           185\n",
       "             Apple AirPods Pro             176\n",
       "             Adidas Ultraboost             157\n",
       "Length: 3645, dtype: int64"
      ]
     },
     "execution_count": 55,
     "metadata": {},
     "output_type": "execute_result"
    }
   ],
   "source": [
    "# Group by \"location\" and \"product_name\", and count the occurrences of each \"product_name\" according to how they were interacted with\n",
    "final_df1.groupby([\"location\", \"product_name\"]).size().sort_index(level=[0, 1], ascending=[False, False])"
   ]
  },
  {
   "cell_type": "code",
   "execution_count": 56,
   "id": "c54fe465",
   "metadata": {},
   "outputs": [
    {
     "data": {
      "text/plain": [
       "product_name       location         \n",
       "Adidas Ultraboost  Zimbabwe             142\n",
       "                   Zambia                97\n",
       "                   Yemen                 82\n",
       "                   Western Sahara       100\n",
       "                   Wallis and Futuna     91\n",
       "                                       ... \n",
       "iPhone 13          Andorra              175\n",
       "                   American Samoa       131\n",
       "                   Algeria              146\n",
       "                   Albania              287\n",
       "                   Afghanistan          117\n",
       "Length: 3645, dtype: int64"
      ]
     },
     "execution_count": 56,
     "metadata": {},
     "output_type": "execute_result"
    }
   ],
   "source": [
    "# Group by \"product_name\" and \"location\" , and classify products according to the location they were interacted with\n",
    "final_df1.groupby([\"product_name\", \"location\"]).size().sort_index(level=[0, 1], ascending=[True, False])"
   ]
  },
  {
   "cell_type": "code",
   "execution_count": 57,
   "id": "53b87eb7",
   "metadata": {},
   "outputs": [
    {
     "name": "stdout",
     "output_type": "stream",
     "text": [
      "Top customers who spent the most money based on overall website activities:\n",
      "                                      total_spending\n",
      "customer_id                                         \n",
      "ebcea232-0615-44be-8f9e-338100c6b31c      1178536.50\n",
      "a68a4174-0109-4469-ab21-d49b48750829      1105581.21\n",
      "bb7fd0af-3254-455b-b705-0241ab25df41      1076852.66\n",
      "9fa0af4e-f4d6-40cc-915e-4e67ec4b43bb      1075179.96\n",
      "be8ce4e3-c596-43c2-8b70-bdcecada2139      1072608.30\n"
     ]
    }
   ],
   "source": [
    "# Calculate total spending for each customer\n",
    "final_df1['total_spending'] = final_df1['price'] * final_df1['quantity']\n",
    "\n",
    "# Group by customer_id, summing up total spending and visit duration and sort customers based on total spending\n",
    "customer_stats = final_df1.groupby('customer_id').agg({'total_spending': 'sum'}).sort_values(by='total_spending', ascending=False)\n",
    "\n",
    "print(\"Top customers who spent the most money based on overall website activities:\")\n",
    "print(customer_stats.head())\n"
   ]
  },
  {
   "cell_type": "code",
   "execution_count": 58,
   "id": "c892d96e",
   "metadata": {},
   "outputs": [
    {
     "name": "stdout",
     "output_type": "stream",
     "text": [
      "Top spending locations:\n",
      "location\n",
      "Korea         14488499.75\n",
      "Argentina      9927716.32\n",
      "Mauritius      9020629.01\n",
      "Singapore      8891045.45\n",
      "Congo          8864868.02\n",
      "                 ...     \n",
      "Greece         2278737.37\n",
      "Azerbaijan     2195669.68\n",
      "Italy          1860520.06\n",
      "Malaysia       1614236.68\n",
      "Uruguay        1219960.19\n",
      "Name: total_spending, Length: 243, dtype: float64\n"
     ]
    }
   ],
   "source": [
    "# Group by total spending customers by location\n",
    "customer_stats_by_location = final_df1.groupby(['customer_id', 'location'])['total_spending'].sum()\n",
    "\n",
    "top_spending_locations = customer_stats_by_location.groupby('location').sum().sort_values(ascending=False)\n",
    "\n",
    "print(\"Top spending locations:\")\n",
    "print(top_spending_locations)"
   ]
  },
  {
   "cell_type": "markdown",
   "id": "380a8032",
   "metadata": {},
   "source": [
    "### Data Visualization"
   ]
  },
  {
   "cell_type": "code",
   "execution_count": 59,
   "id": "971f23a0",
   "metadata": {},
   "outputs": [
    {
     "data": {
      "image/png": "[encoded data removed]",
      "text/plain": [
       "<Figure size 800x500 with 1 Axes>"
      ]
     },
     "metadata": {},
     "output_type": "display_data"
    }
   ],
   "source": [
    "# Disrtibution of how products were purchased according to their frequency\n",
    "product_counts = final_df1.groupby(\"product_name\").size().sort_values(ascending = False)\n",
    "\n",
    "plt.figure(figsize=(8, 5))\n",
    "product_counts.plot(kind='bar', color='green')\n",
    "plt.title('Distribution of Products accessed on the website by Frequency')\n",
    "plt.xlabel('Product Name')\n",
    "plt.ylabel('Frequency')\n",
    "plt.show()"
   ]
  },
  {
   "cell_type": "code",
   "execution_count": 60,
   "id": "756c5865",
   "metadata": {},
   "outputs": [
    {
     "data": {
      "image/png": "[encoded data removed]",
      "text/plain": [
       "<Figure size 800x500 with 1 Axes>"
      ]
     },
     "metadata": {},
     "output_type": "display_data"
    }
   ],
   "source": [
    "# Distribution of products according to how they were checked out (purchase made)\n",
    "product_purchased = final_df1[final_df1['event_type'] == 'checkout']['product_name'].value_counts()\n",
    "\n",
    "plt.figure(figsize=(8, 5))\n",
    "product_purchased.plot(kind='bar', color='brown')\n",
    "plt.title('Distribution of Products purchased by Frequency')\n",
    "plt.xlabel('Product Name')\n",
    "plt.ylabel('Frequency')\n",
    "plt.show()"
   ]
  },
  {
   "cell_type": "code",
   "execution_count": 61,
   "id": "324011c9",
   "metadata": {},
   "outputs": [
    {
     "data": {
      "image/png": "[encoded data removed]",
      "text/plain": [
       "<Figure size 800x500 with 1 Axes>"
      ]
     },
     "metadata": {},
     "output_type": "display_data"
    }
   ],
   "source": [
    "# Understanding activities that took place on the website based on \"event type\"\n",
    "event_counts = final_df1.groupby(\"event_type\").size().sort_values(ascending = False)\n",
    "\n",
    "plt.figure(figsize=(8, 5))\n",
    "event_counts.plot(kind='bar', color='green')\n",
    "plt.title('Distribution of Events by Frequency')\n",
    "plt.xlabel('Event Type')\n",
    "plt.ylabel('Frequency')\n",
    "plt.show()"
   ]
  },
  {
   "cell_type": "code",
   "execution_count": 62,
   "id": "0933a610",
   "metadata": {},
   "outputs": [
    {
     "data": {
      "image/png": "[encoded data removed]",
      "text/plain": [
       "<Figure size 800x500 with 1 Axes>"
      ]
     },
     "metadata": {},
     "output_type": "display_data"
    }
   ],
   "source": [
    "# Activities on the website based on location\n",
    "location_counts = final_df1.groupby(\"location\").size().sort_values(ascending = False)\n",
    "\n",
    "plt.figure(figsize=(8, 5))\n",
    "location_counts.head(20).plot(kind='bar', color='brown')\n",
    "plt.title('Distribution of Location of customers by Frequency')\n",
    "plt.xlabel('Location')\n",
    "plt.ylabel('Frequency')\n",
    "plt.show()"
   ]
  },
  {
   "cell_type": "code",
   "execution_count": 63,
   "id": "62938dde",
   "metadata": {},
   "outputs": [
    {
     "data": {
      "image/png": "[encoded data removed]",
      "text/plain": [
       "<Figure size 1200x600 with 1 Axes>"
      ]
     },
     "metadata": {},
     "output_type": "display_data"
    }
   ],
   "source": [
    "# Purchasing behavior based on location\n",
    "checkout_by_location = event_type_by_location(final_df1, \"checkout\").head(10).sort_values(ascending =True)\n",
    "\n",
    "plt.figure(figsize=(12, 6))\n",
    "checkout_by_location.plot(kind='barh', color = 'green')\n",
    "plt.title('Distribution of Checkouts by Location')\n",
    "plt.xlabel('Frequency')\n",
    "plt.ylabel('Location')\n",
    "plt.xticks(rotation=45, ha='right')\n",
    "plt.tight_layout()\n",
    "plt.show()"
   ]
  },
  {
   "cell_type": "code",
   "execution_count": 64,
   "id": "1f96bed9",
   "metadata": {},
   "outputs": [
    {
     "data": {
      "image/png": "[encoded data removed]",
      "text/plain": [
       "<Figure size 1200x600 with 1 Axes>"
      ]
     },
     "metadata": {},
     "output_type": "display_data"
    }
   ],
   "source": [
    "# Group by total spending customers by location\n",
    "customer_stats_by_location = final_df1.groupby(['customer_id', 'location'])['total_spending'].sum()\n",
    "top_spending_locations_counts = customer_stats_by_location.groupby('location').sum().sort_values(ascending=False)\n",
    "\n",
    "plt.figure(figsize=(12, 6))\n",
    "top_spending_locations_counts.head(10).sort_values(ascending = True).plot(kind='barh', color = 'brown')\n",
    "plt.title('Distribution of Top Spending Location')\n",
    "plt.xlabel('Frequency')\n",
    "plt.ylabel('Location')\n",
    "plt.xticks(rotation=45, ha='right')\n",
    "plt.tight_layout()\n",
    "plt.show()"
   ]
  },
  {
   "cell_type": "code",
   "execution_count": 65,
   "id": "22ac3ddb",
   "metadata": {},
   "outputs": [
    {
     "data": {
      "image/png": "[encoded data removed]",
      "text/plain": [
       "<Figure size 1200x600 with 1 Axes>"
      ]
     },
     "metadata": {},
     "output_type": "display_data"
    }
   ],
   "source": [
    "# Activities on the website based on day of the week\n",
    "day_of_the_week_counts = final_df1.groupby(\"Day\")[\"event_type\"].size().sort_values(ascending = True)\n",
    "\n",
    "plt.figure(figsize=(12, 6))\n",
    "day_of_the_week_counts.plot(kind='barh', color = 'green')\n",
    "plt.title('Activities on the Website by Day of the Week')\n",
    "plt.xlabel('Frequency')\n",
    "plt.ylabel('Day of the Week')\n",
    "plt.xticks(rotation=45, ha='right')\n",
    "plt.tight_layout()\n",
    "plt.show()"
   ]
  },
  {
   "cell_type": "code",
   "execution_count": 66,
   "id": "4ee118ce",
   "metadata": {},
   "outputs": [
    {
     "data": {
      "image/png": "[encoded data removed]",
      "text/plain": [
       "<Figure size 1200x600 with 1 Axes>"
      ]
     },
     "metadata": {},
     "output_type": "display_data"
    }
   ],
   "source": [
    "# Event type (checkout) distribution according to day of the week,function can be adjusted based on the event you want to view\n",
    "day_of_the_week_checkout = event_type_by_day(final_df1, \"checkout\")\n",
    "\n",
    "plt.figure(figsize=(12, 6))\n",
    "day_of_the_week_checkout.plot(kind='barh', color = 'brown')\n",
    "plt.title('Checkout on the Website by Day of the Week')\n",
    "plt.xlabel('Frequency')\n",
    "plt.ylabel('Day of the Week')\n",
    "plt.xticks(rotation=45, ha='right')\n",
    "plt.tight_layout()\n",
    "plt.show()"
   ]
  },
  {
   "cell_type": "code",
   "execution_count": 67,
   "id": "6bee25d9",
   "metadata": {},
   "outputs": [
    {
     "data": {
      "image/png": "[encoded data removed]",
      "text/plain": [
       "<Figure size 1000x600 with 1 Axes>"
      ]
     },
     "metadata": {},
     "output_type": "display_data"
    }
   ],
   "source": [
    "# Histogram of visit frequency to identify how customers interacted with the website\n",
    "visit_frequency.hist(bins=20, figsize=(10, 6))\n",
    "plt.title('Visit Frequency Distribution')\n",
    "plt.xlabel('Number of Visits')\n",
    "plt.ylabel('Number of Customers')\n",
    "plt.show()"
   ]
  },
  {
   "cell_type": "code",
   "execution_count": 68,
   "id": "76b8eaeb",
   "metadata": {},
   "outputs": [
    {
     "data": {
      "image/png": "[encoded data removed]",
      "text/plain": [
       "<Figure size 1000x600 with 1 Axes>"
      ]
     },
     "metadata": {},
     "output_type": "display_data"
    }
   ],
   "source": [
    "# Activities on the website based on hour of the day\n",
    "hourly_event_counts = final_df1.groupby(\"Hour\")[\"event_type\"].size().sort_values(ascending=False)\n",
    "\n",
    "plt.figure(figsize=(10, 6))\n",
    "hourly_event_counts.plot(kind='line')\n",
    "plt.title('Event Type Distribution by Hour of the Day')\n",
    "plt.xlabel('Hour of the Day')\n",
    "plt.ylabel('Count of Events')\n",
    "plt.xticks(range(24))\n",
    "plt.grid(True)\n",
    "plt.show()"
   ]
  },
  {
   "cell_type": "markdown",
   "id": "68b5532e",
   "metadata": {},
   "source": [
    "### Conclusions and Recommendations"
   ]
  },
  {
   "cell_type": "markdown",
   "id": "b261a0ea",
   "metadata": {},
   "source": [
    "#### Conclusions\n",
    "Based on the Exploratory Data Analysis and Visualizations done with regards to geographical location, popular products, conversion rate, customer behaviour, e.t.c., It could be observed that:\n",
    "\n",
    "1. The highest number of website visitors originates from Korea, Mauritius, and Argentina.\n",
    "2. Despite a significant number of visitors, the conversion rate remains low at 0.79%, indicating that only a small fraction of visitors make purchases.\n",
    "3. The top-selling items include the Canon EOS R5 Camera, Fitbit Charge 4, and Sony WH-1000XM4 Headphones, indicating high customer interest and demand.\n",
    "4. Saturday stands out as the busiest day for the website, witnessing the highest traffic and sales volume.\n",
    "5. Returning customers exhibit a higher purchasing frequency compared to first-time or one-time customers, suggesting a loyal customer base with repeat purchases.\n",
    "\n",
    "#### Recommendations\n",
    "With regards to the insights gathered from the EDA, here are some recommendations to optimize the website and increase conversion rates:\n",
    "\n",
    "1. Tailor marketing campaigns to target audiences in Korea, Mauritius, and Argentina, leveraging localized language, cultural nuances, and preferences to enhance engagement and conversion rates.\n",
    "2. Implement Conversion Rate Optimization strategies such as optimizing product pages, simplifying checkout processes, and providing incentives for completing purchases to improve the conversion rate from website visitors to customers.\n",
    "3. Capitalize on the popularity of top-selling products like the Canon EOS R5 Camera, Fitbit Charge 4, and Sony WH-1000XM4 Headphones by prominently featuring them on the website, offering promotions, and creating targeted marketing campaigns to drive sales.\n",
    "4. Maximize sales opportunities by launching special promotions and marketing campaigns on Saturdays\n",
    "5. Develop and implement customer loyalty programs, personalized recommendations, and follow-up communication to nurture relationships with returning customers, encouraging repeat purchases and fostering long-term customer loyalty.\n",
    "6. To boost conversions among one-time customers, streamline the first-time shopping experience with personalized incentives and simplified checkout processes. Maintain consistent website optimization efforts on all days and strategically deploy promotions throughout the week to cater to diverse customer behaviors. Expand product offerings to include high-demand items and exclusive deals.\n"
   ]
  },
  {
   "cell_type": "code",
   "execution_count": null,
   "id": "851d8ca0",
   "metadata": {},
   "outputs": [],
   "source": []
  }
 ],
 "metadata": {
  "kernelspec": {
   "display_name": "Python 3 (ipykernel)",
   "language": "python",
   "name": "python3"
  },
  "language_info": {
   "codemirror_mode": {
    "name": "ipython",
    "version": 3
   },
   "file_extension": ".py",
   "mimetype": "text/x-python",
   "name": "python",
   "nbconvert_exporter": "python",
   "pygments_lexer": "ipython3",
   "version": "3.11.5"
  }
 },
 "nbformat": 4,
 "nbformat_minor": 5
}
